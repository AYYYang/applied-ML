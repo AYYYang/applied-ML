{
 "cells": [
  {
   "cell_type": "markdown",
   "metadata": {},
   "source": [
    "# CPSC 330 hw4\n",
    "\n",
    "Meta-commentary: this assignment contains more new material that I created specifically for CPSC 330, whereas previous assignments relied more on adapting materials from other courses. As a result, in this assignment it is more likely that we will encounter typos, bugs, or other frustrations. Please be patient as we work through these issues.\n",
    "\n",
    "Following the style of the lectures, this assignment is centred around a particular dataset and is also somewhat more open-ended than the previous ones. This reflects the direction that I'm trying to take the course, namely to give you practice with, and build good habits for, the end-to-end ML process. However, if this turns out to be too messy or too difficult to grade then I may revert back to less open-ended assignments in the future. Note that, given this style, there are many possible correct answers - you should not expect exactly the same results as your classmates.\n",
    "\n",
    "It is also a bit hard for me to gauge the right length and difficulty for a new assignment, so please do provide feedback in your repo's README!"
   ]
  },
  {
   "cell_type": "code",
   "execution_count": 265,
   "metadata": {},
   "outputs": [],
   "source": [
    "import numpy as np\n",
    "import pandas as pd\n",
    "import matplotlib.pyplot as plt\n",
    "%matplotlib inline\n",
    "\n",
    "from sklearn import datasets\n",
    "from sklearn.dummy import DummyClassifier\n",
    "from sklearn.model_selection import train_test_split, cross_val_score, cross_validate, GridSearchCV, RandomizedSearchCV\n",
    "from sklearn.metrics import confusion_matrix, plot_confusion_matrix, classification_report, roc_curve, roc_auc_score\n",
    "\n",
    "from sklearn.preprocessing import Normalizer, StandardScaler, MinMaxScaler\n",
    "from sklearn.preprocessing import OneHotEncoder, LabelEncoder, OrdinalEncoder\n",
    "from sklearn.linear_model import LogisticRegression\n",
    "from sklearn.svm import SVC, LinearSVC\n",
    "from sklearn.ensemble import RandomForestClassifier\n",
    "from sklearn.compose import ColumnTransformer\n",
    "\n",
    "from sklearn.model_selection import train_test_split"
   ]
  },
  {
   "cell_type": "code",
   "execution_count": 266,
   "metadata": {},
   "outputs": [],
   "source": [
    "plt.rcParams['font.size'] = 14"
   ]
  },
  {
   "cell_type": "code",
   "execution_count": 267,
   "metadata": {},
   "outputs": [],
   "source": [
    "def model_metrics(model, X, y):\n",
    "    predictions = model.predict(X)\n",
    "    TN, FP, FN, TP = confusion_matrix(y, predictions).ravel()\n",
    "    print(confusion_matrix(y, predictions))\n",
    "\n",
    "    # Calculate evaluation metrics \n",
    "    accuracy = (TP+TN)/(TN+FP+FN+TP)\n",
    "    error = (FP+FN)/(TN+FP+FN+TP)\n",
    "    precision = TP/(TP + FP)\n",
    "    recall = TP/(TP + FN)\n",
    "    f1 = 2* (precision * recall)/(precision + recall)\n",
    "    data = {}\n",
    "    data['accuracy'] = [accuracy]\n",
    "    data['error'] = [error]\n",
    "    data['precision'] = [precision]\n",
    "    data['recall'] = [recall]\n",
    "    data['f1'] = [f1]\n",
    "\n",
    "    metrics_df = pd.DataFrame(data)\n",
    "    return metrics_df"
   ]
  },
  {
   "cell_type": "markdown",
   "metadata": {},
   "source": [
    "## Instructions\n",
    "rubric={points:5}\n",
    "\n",
    "Follow the [homework submission instructions](https://github.students.cs.ubc.ca/cpsc330-2019w-t2/home/blob/master/docs/homework_instructions.md). \n",
    "\n",
    "**Additional requirement**: if you are working with a partner, please write a couple sentences explaining the contribution of each team member. You should refer to yourselves by your CSIDs (because seeing names can cause bias during grading). Here is an example:\n",
    "\n",
    "> a1b2c did Exercise 1, checked over Exercise 2, and pair-programmed for Exercise 3. z9y8x checked over Exercise 1, did Exercise 2, and pair-programmed for Exercise 3. \n",
    "\n",
    "Our ideal scenario is that you worked together on all the exercises, but you are not required to do so, and for now we are only collecting this information because we are curious. If you are working alone, you can ignore this section.\n",
    "\n",
    "Both of us (b9h0b and x8p1b) attempted the entire assignment and corss checked our answers"
   ]
  },
  {
   "cell_type": "markdown",
   "metadata": {},
   "source": [
    "## Writing quality/quantity\n",
    "rubric={points:5}\n",
    "\n",
    "The TAs have reported a couple issues with the first few assignments: in some cases, submissions simply show the code output with no commentary; please write at least a sentence explaining your output in each question. In other cases, the TAs have come across multi-paragraph answers where a couple of sentences would have sufficed. Thus, we are now allocating the above points for well-structured answers of a reasonable length. In general, 1-3 sentences is good."
   ]
  },
  {
   "cell_type": "markdown",
   "metadata": {},
   "source": [
    "## Exercise 1: implementing `DummyClassifier`\n",
    "rubric={points:20}\n",
    "\n",
    "In this course (unlike CPSC 340) you will generally not be asked to implement the methods we talk about, like logistic regression. However, this exercise is an exception: you will implement the simplest possible classifier, `DummyClassifier`.\n",
    "\n",
    "Below you will find starter code for a class called `MyDummyClassifier`, which has methods `fit()`, `predict()`, and `predict_proba()`. Your task is to fill in those three functions. The next code block has some tests you can use to assess whether your code is working. \n",
    "\n",
    "I suggest starting with `fit` and `predict`, and making sure those are working before moving on to `predict_proba`. For `predict_proba`, you should return the frequency of each class in the training data. Again, you can compare with `DummyClassifier` using the code below.\n",
    "\n",
    "To simplify this question, you can assume **binary classification**, and furthermore that these classes are **encoded as 0 and 1**. In other words, you can assume that `y` contains only 0s and 1s. The real `DummyClassifier` works when you have more than two classes, and also works if the target values are encoded differently, for example as \"cat\", \"dog\", \"mouse\", etc."
   ]
  },
  {
   "cell_type": "code",
   "execution_count": 358,
   "metadata": {},
   "outputs": [],
   "source": [
    "class MyDummyClassifier:\n",
    "    \"\"\"\n",
    "    A baseline classifier that predicts the most common class.\n",
    "    The predicted probabilities come from the relative frequencies\n",
    "    of the classes in the training data.\n",
    "    \n",
    "    This implementation only works when y only contains 0s and 1s.\n",
    "    \"\"\"\n",
    "    def fit(self, X, y):\n",
    "        target_labels = pd.Series(y)\n",
    "        self.mostCommonLabel = target_labels.value_counts().idxmax()\n",
    "        self.probs = np.array([y.size - np.count_nonzero(y), np.count_nonzero(y)])/y.size\n",
    "        return self                \n",
    "        \n",
    "    def predict(self, X):\n",
    "        return np.full(X.shape[0], self.mostCommonLabel)    \n",
    "        \n",
    "    \n",
    "    def predict_proba(self, X):\n",
    "        return np.tile(self.probs, (X.shape[0], 1))\n",
    "        "
   ]
  },
  {
   "cell_type": "markdown",
   "metadata": {},
   "source": [
    "Below are some tests for `predict`. You may want to run the cell a few times to make sure you explore the different cases (or automate this with a loop or random seeds)."
   ]
  },
  {
   "cell_type": "code",
   "execution_count": 359,
   "metadata": {},
   "outputs": [],
   "source": [
    "# For testing, generate random data\n",
    "n_train = 101\n",
    "n_valid = 21\n",
    "d = 5\n",
    "X_train_dummy = np.random.randn(n_train, d)\n",
    "X_valid_dummy = np.random.randn(n_valid, d)\n",
    "y_train_dummy = np.random.randint(2, size=n_train)\n",
    "y_valid_dummy = np.random.randint(2, size=n_valid)\n",
    "\n",
    "my_dc = MyDummyClassifier()\n",
    "sk_dc = DummyClassifier(strategy=\"prior\")\n",
    "\n",
    "my_dc.fit(X_train_dummy, y_train_dummy);\n",
    "sk_dc.fit(X_train_dummy, y_train_dummy);\n",
    "\n",
    "assert np.array_equal(my_dc.predict(X_train_dummy), sk_dc.predict(X_train_dummy))\n",
    "assert np.array_equal(my_dc.predict(X_valid_dummy), sk_dc.predict(X_valid_dummy))\n"
   ]
  },
  {
   "cell_type": "markdown",
   "metadata": {},
   "source": [
    "Below are some tests for `predict_proba`."
   ]
  },
  {
   "cell_type": "code",
   "execution_count": 360,
   "metadata": {},
   "outputs": [
    {
     "name": "stdout",
     "output_type": "stream",
     "text": [
      "[0.65346535 0.34653465]\n",
      "[0.65346535 0.34653465]\n"
     ]
    }
   ],
   "source": [
    "print(sk_dc.predict_proba(X_train_dummy)[0])\n",
    "print(my_dc.predict_proba(X_train_dummy)[0])\n",
    "assert np.allclose(my_dc.predict_proba(X_train_dummy), sk_dc.predict_proba(X_train_dummy))\n",
    "assert np.allclose(my_dc.predict_proba(X_valid_dummy), sk_dc.predict_proba(X_valid_dummy))"
   ]
  },
  {
   "cell_type": "markdown",
   "metadata": {},
   "source": [
    "## Exercise 2: Precision and recall by hand"
   ]
  },
  {
   "cell_type": "markdown",
   "metadata": {},
   "source": [
    "Below is the confusion matrix of a machine learning system that predicts whether a cancer is malignant or not. Let's consider malignant to be the \"positive class\".\n",
    "\n",
    "|    Actual/Predicted      | Predicted Benign | Predicted Malignant |\n",
    "| :------------- | -----------------------: | -----------------------: |\n",
    "| **Actual Benign**       | 6 | 238 |\n",
    "| **Actual Malignant**       | 20 | 194 |"
   ]
  },
  {
   "cell_type": "markdown",
   "metadata": {},
   "source": [
    "#### 2(a)\n",
    "rubric={points:2}\n",
    "\n",
    "Would you consider this an imbalanced dataset? Why or why not? Max 2 sentences.\n",
    "\n",
    "    "
   ]
  },
  {
   "cell_type": "markdown",
   "metadata": {},
   "source": [
    "No, it's not. There is roughly an equal split between benign and malignant examples (244 benign / 214 malignant)"
   ]
  },
  {
   "cell_type": "markdown",
   "metadata": {},
   "source": [
    "#### 2(b)\n",
    "rubric={points:2}\n",
    "\n",
    "Based on the above confusion matrix, what is the recall? \n",
    "\n",
    "    "
   ]
  },
  {
   "cell_type": "markdown",
   "metadata": {},
   "source": [
    "$\\text{Recall} = \\dfrac{194}{194 + 20} = 0.906$"
   ]
  },
  {
   "cell_type": "markdown",
   "metadata": {},
   "source": [
    "#### 2(c)\n",
    "rubric={points:5}\n",
    "\n",
    "Do you consider this to be a good classifier? What additional information might you need to answer this question? Briefly discuss in 1-3 sentences.\n",
    "\n",
    "    "
   ]
  },
  {
   "cell_type": "markdown",
   "metadata": {},
   "source": [
    "It depends. From an accuracy perspective, we're getting $\\dfrac{194+6}{194+6+20+238} = 43.6\\%$ which is not good. Precision is $\\dfrac{194}{194+238} = 0.449$, which is also not good. However the classifier has a high recall rate, which means it will try to classify most examples as \"Malignant\". If we know it is more important to classify malignant cases, then this model is good enough for the task"
   ]
  },
  {
   "cell_type": "markdown",
   "metadata": {},
   "source": [
    "## Exercise 3: Customer churn data\n",
    "\n",
    "[Customer churn](https://en.wikipedia.org/wiki/Customer_attrition) refers to the notion of customers leaving a subscription service like Netflix. In this exercise, we will try to predict customer churn in a dataset where most of the customers stay with the service and a small minority cancel their subscription. To start, please download the [Kaggle telecom customer churn dataset](https://www.kaggle.com/becksddf/churn-in-telecoms-dataset). **Do not push the CSV to your repo** (you may want to create a .gitignore file). One you have the data, you should be able to run the following code:"
   ]
  },
  {
   "cell_type": "code",
   "execution_count": 271,
   "metadata": {},
   "outputs": [],
   "source": [
    "df = pd.read_csv('bigml_59c28831336c6604c800002a.csv', encoding='latin-1')"
   ]
  },
  {
   "cell_type": "code",
   "execution_count": 272,
   "metadata": {},
   "outputs": [],
   "source": [
    "df_train, df_test = train_test_split(df, test_size=0.1, random_state=100)\n",
    "df_train, df_valid = train_test_split(df_train, test_size=0.25, random_state=100)"
   ]
  },
  {
   "cell_type": "code",
   "execution_count": 273,
   "metadata": {},
   "outputs": [
    {
     "data": {
      "text/html": [
       "<div>\n",
       "<style scoped>\n",
       "    .dataframe tbody tr th:only-of-type {\n",
       "        vertical-align: middle;\n",
       "    }\n",
       "\n",
       "    .dataframe tbody tr th {\n",
       "        vertical-align: top;\n",
       "    }\n",
       "\n",
       "    .dataframe thead th {\n",
       "        text-align: right;\n",
       "    }\n",
       "</style>\n",
       "<table border=\"1\" class=\"dataframe\">\n",
       "  <thead>\n",
       "    <tr style=\"text-align: right;\">\n",
       "      <th></th>\n",
       "      <th>state</th>\n",
       "      <th>account length</th>\n",
       "      <th>area code</th>\n",
       "      <th>phone number</th>\n",
       "      <th>international plan</th>\n",
       "      <th>voice mail plan</th>\n",
       "      <th>number vmail messages</th>\n",
       "      <th>total day minutes</th>\n",
       "      <th>total day calls</th>\n",
       "      <th>total day charge</th>\n",
       "      <th>...</th>\n",
       "      <th>total eve calls</th>\n",
       "      <th>total eve charge</th>\n",
       "      <th>total night minutes</th>\n",
       "      <th>total night calls</th>\n",
       "      <th>total night charge</th>\n",
       "      <th>total intl minutes</th>\n",
       "      <th>total intl calls</th>\n",
       "      <th>total intl charge</th>\n",
       "      <th>customer service calls</th>\n",
       "      <th>churn</th>\n",
       "    </tr>\n",
       "  </thead>\n",
       "  <tbody>\n",
       "    <tr>\n",
       "      <th>706</th>\n",
       "      <td>CO</td>\n",
       "      <td>108</td>\n",
       "      <td>415</td>\n",
       "      <td>400-5984</td>\n",
       "      <td>no</td>\n",
       "      <td>no</td>\n",
       "      <td>0</td>\n",
       "      <td>215.6</td>\n",
       "      <td>78</td>\n",
       "      <td>36.65</td>\n",
       "      <td>...</td>\n",
       "      <td>119</td>\n",
       "      <td>16.60</td>\n",
       "      <td>194.4</td>\n",
       "      <td>65</td>\n",
       "      <td>8.75</td>\n",
       "      <td>3.6</td>\n",
       "      <td>5</td>\n",
       "      <td>0.97</td>\n",
       "      <td>1</td>\n",
       "      <td>False</td>\n",
       "    </tr>\n",
       "    <tr>\n",
       "      <th>3204</th>\n",
       "      <td>ID</td>\n",
       "      <td>105</td>\n",
       "      <td>408</td>\n",
       "      <td>363-3469</td>\n",
       "      <td>no</td>\n",
       "      <td>no</td>\n",
       "      <td>0</td>\n",
       "      <td>232.6</td>\n",
       "      <td>96</td>\n",
       "      <td>39.54</td>\n",
       "      <td>...</td>\n",
       "      <td>117</td>\n",
       "      <td>21.54</td>\n",
       "      <td>154.0</td>\n",
       "      <td>101</td>\n",
       "      <td>6.93</td>\n",
       "      <td>10.5</td>\n",
       "      <td>9</td>\n",
       "      <td>2.84</td>\n",
       "      <td>1</td>\n",
       "      <td>False</td>\n",
       "    </tr>\n",
       "    <tr>\n",
       "      <th>1770</th>\n",
       "      <td>OH</td>\n",
       "      <td>106</td>\n",
       "      <td>415</td>\n",
       "      <td>364-4927</td>\n",
       "      <td>no</td>\n",
       "      <td>no</td>\n",
       "      <td>0</td>\n",
       "      <td>158.6</td>\n",
       "      <td>112</td>\n",
       "      <td>26.96</td>\n",
       "      <td>...</td>\n",
       "      <td>114</td>\n",
       "      <td>18.70</td>\n",
       "      <td>252.9</td>\n",
       "      <td>106</td>\n",
       "      <td>11.38</td>\n",
       "      <td>9.1</td>\n",
       "      <td>3</td>\n",
       "      <td>2.46</td>\n",
       "      <td>0</td>\n",
       "      <td>False</td>\n",
       "    </tr>\n",
       "    <tr>\n",
       "      <th>3254</th>\n",
       "      <td>IL</td>\n",
       "      <td>57</td>\n",
       "      <td>415</td>\n",
       "      <td>403-6237</td>\n",
       "      <td>no</td>\n",
       "      <td>yes</td>\n",
       "      <td>30</td>\n",
       "      <td>179.2</td>\n",
       "      <td>105</td>\n",
       "      <td>30.46</td>\n",
       "      <td>...</td>\n",
       "      <td>83</td>\n",
       "      <td>24.07</td>\n",
       "      <td>228.1</td>\n",
       "      <td>77</td>\n",
       "      <td>10.26</td>\n",
       "      <td>14.7</td>\n",
       "      <td>5</td>\n",
       "      <td>3.97</td>\n",
       "      <td>1</td>\n",
       "      <td>False</td>\n",
       "    </tr>\n",
       "    <tr>\n",
       "      <th>2197</th>\n",
       "      <td>LA</td>\n",
       "      <td>133</td>\n",
       "      <td>415</td>\n",
       "      <td>360-7079</td>\n",
       "      <td>no</td>\n",
       "      <td>no</td>\n",
       "      <td>0</td>\n",
       "      <td>216.2</td>\n",
       "      <td>67</td>\n",
       "      <td>36.75</td>\n",
       "      <td>...</td>\n",
       "      <td>133</td>\n",
       "      <td>18.89</td>\n",
       "      <td>192.0</td>\n",
       "      <td>95</td>\n",
       "      <td>8.64</td>\n",
       "      <td>3.1</td>\n",
       "      <td>1</td>\n",
       "      <td>0.84</td>\n",
       "      <td>2</td>\n",
       "      <td>False</td>\n",
       "    </tr>\n",
       "  </tbody>\n",
       "</table>\n",
       "<p>5 rows × 21 columns</p>\n",
       "</div>"
      ],
      "text/plain": [
       "     state  account length  area code phone number international plan  \\\n",
       "706     CO             108        415     400-5984                 no   \n",
       "3204    ID             105        408     363-3469                 no   \n",
       "1770    OH             106        415     364-4927                 no   \n",
       "3254    IL              57        415     403-6237                 no   \n",
       "2197    LA             133        415     360-7079                 no   \n",
       "\n",
       "     voice mail plan  number vmail messages  total day minutes  \\\n",
       "706               no                      0              215.6   \n",
       "3204              no                      0              232.6   \n",
       "1770              no                      0              158.6   \n",
       "3254             yes                     30              179.2   \n",
       "2197              no                      0              216.2   \n",
       "\n",
       "      total day calls  total day charge  ...  total eve calls  \\\n",
       "706                78             36.65  ...              119   \n",
       "3204               96             39.54  ...              117   \n",
       "1770              112             26.96  ...              114   \n",
       "3254              105             30.46  ...               83   \n",
       "2197               67             36.75  ...              133   \n",
       "\n",
       "      total eve charge  total night minutes  total night calls  \\\n",
       "706              16.60                194.4                 65   \n",
       "3204             21.54                154.0                101   \n",
       "1770             18.70                252.9                106   \n",
       "3254             24.07                228.1                 77   \n",
       "2197             18.89                192.0                 95   \n",
       "\n",
       "      total night charge  total intl minutes  total intl calls  \\\n",
       "706                 8.75                 3.6                 5   \n",
       "3204                6.93                10.5                 9   \n",
       "1770               11.38                 9.1                 3   \n",
       "3254               10.26                14.7                 5   \n",
       "2197                8.64                 3.1                 1   \n",
       "\n",
       "      total intl charge  customer service calls  churn  \n",
       "706                0.97                       1  False  \n",
       "3204               2.84                       1  False  \n",
       "1770               2.46                       0  False  \n",
       "3254               3.97                       1  False  \n",
       "2197               0.84                       2  False  \n",
       "\n",
       "[5 rows x 21 columns]"
      ]
     },
     "execution_count": 273,
     "metadata": {},
     "output_type": "execute_result"
    }
   ],
   "source": [
    "df_train.head()"
   ]
  },
  {
   "cell_type": "markdown",
   "metadata": {},
   "source": [
    "The last column (`churn`) is the target. \"True\" means the customer left the subscription (churned) and \"False\" means they stayed.\n",
    "\n",
    "**Note**: in this exercise you are welcome to copy/paste/adapt code from the **lecture notes** without attribution. However, you are **not** permitted to copy any other code from online sources without attribution.\n",
    "\n",
    "**Note**: if available, you are welcome to use scikit-learn functions for any of the tasks below, such as confusion matrix. You are not required to implement them yourselves. "
   ]
  },
  {
   "cell_type": "markdown",
   "metadata": {},
   "source": [
    "#### 3(a)  \n",
    "rubric={points:8} \n",
    "\n",
    "Perform some exploratory data analysis on the training set. In particular:\n",
    "\n",
    "- How many rows and columns are there?\n",
    "- How many True/False target values are there?\n",
    "\n",
    "Come up with **two** more questions you would like to answer (similar to the above two), and explore those as well. Briefly discuss your results in 1-3 sentences."
   ]
  },
  {
   "cell_type": "code",
   "execution_count": 212,
   "metadata": {},
   "outputs": [
    {
     "data": {
      "text/plain": [
       "(2249, 21)"
      ]
     },
     "execution_count": 212,
     "metadata": {},
     "output_type": "execute_result"
    }
   ],
   "source": [
    "df_train.shape"
   ]
  },
  {
   "cell_type": "code",
   "execution_count": 213,
   "metadata": {},
   "outputs": [
    {
     "data": {
      "text/plain": [
       "False    1917\n",
       "True      332\n",
       "Name: churn, dtype: int64"
      ]
     },
     "execution_count": 213,
     "metadata": {},
     "output_type": "execute_result"
    }
   ],
   "source": [
    "df_train[\"churn\"].value_counts()"
   ]
  },
  {
   "cell_type": "code",
   "execution_count": 214,
   "metadata": {},
   "outputs": [
    {
     "data": {
      "text/html": [
       "<div>\n",
       "<style scoped>\n",
       "    .dataframe tbody tr th:only-of-type {\n",
       "        vertical-align: middle;\n",
       "    }\n",
       "\n",
       "    .dataframe tbody tr th {\n",
       "        vertical-align: top;\n",
       "    }\n",
       "\n",
       "    .dataframe thead th {\n",
       "        text-align: right;\n",
       "    }\n",
       "</style>\n",
       "<table border=\"1\" class=\"dataframe\">\n",
       "  <thead>\n",
       "    <tr style=\"text-align: right;\">\n",
       "      <th></th>\n",
       "      <th>account length</th>\n",
       "      <th>area code</th>\n",
       "      <th>number vmail messages</th>\n",
       "      <th>total day minutes</th>\n",
       "      <th>total day calls</th>\n",
       "      <th>total day charge</th>\n",
       "      <th>total eve minutes</th>\n",
       "      <th>total eve calls</th>\n",
       "      <th>total eve charge</th>\n",
       "      <th>total night minutes</th>\n",
       "      <th>total night calls</th>\n",
       "      <th>total night charge</th>\n",
       "      <th>total intl minutes</th>\n",
       "      <th>total intl calls</th>\n",
       "      <th>total intl charge</th>\n",
       "      <th>customer service calls</th>\n",
       "    </tr>\n",
       "  </thead>\n",
       "  <tbody>\n",
       "    <tr>\n",
       "      <th>count</th>\n",
       "      <td>2249.000000</td>\n",
       "      <td>2249.000000</td>\n",
       "      <td>2249.000000</td>\n",
       "      <td>2249.000000</td>\n",
       "      <td>2249.000000</td>\n",
       "      <td>2249.000000</td>\n",
       "      <td>2249.000000</td>\n",
       "      <td>2249.000000</td>\n",
       "      <td>2249.000000</td>\n",
       "      <td>2249.000000</td>\n",
       "      <td>2249.000000</td>\n",
       "      <td>2249.000000</td>\n",
       "      <td>2249.000000</td>\n",
       "      <td>2249.000000</td>\n",
       "      <td>2249.000000</td>\n",
       "      <td>2249.000000</td>\n",
       "    </tr>\n",
       "    <tr>\n",
       "      <th>mean</th>\n",
       "      <td>101.029346</td>\n",
       "      <td>437.572254</td>\n",
       "      <td>7.890618</td>\n",
       "      <td>179.182259</td>\n",
       "      <td>99.921743</td>\n",
       "      <td>30.461547</td>\n",
       "      <td>201.171676</td>\n",
       "      <td>100.203646</td>\n",
       "      <td>17.099831</td>\n",
       "      <td>202.469453</td>\n",
       "      <td>100.244108</td>\n",
       "      <td>9.111232</td>\n",
       "      <td>10.255225</td>\n",
       "      <td>4.436639</td>\n",
       "      <td>2.769413</td>\n",
       "      <td>1.576701</td>\n",
       "    </tr>\n",
       "    <tr>\n",
       "      <th>std</th>\n",
       "      <td>39.941851</td>\n",
       "      <td>42.603258</td>\n",
       "      <td>13.580967</td>\n",
       "      <td>54.724285</td>\n",
       "      <td>20.045081</td>\n",
       "      <td>9.303134</td>\n",
       "      <td>50.375700</td>\n",
       "      <td>19.868593</td>\n",
       "      <td>4.281931</td>\n",
       "      <td>50.522384</td>\n",
       "      <td>19.431706</td>\n",
       "      <td>2.273568</td>\n",
       "      <td>2.827567</td>\n",
       "      <td>2.439045</td>\n",
       "      <td>0.763389</td>\n",
       "      <td>1.332094</td>\n",
       "    </tr>\n",
       "    <tr>\n",
       "      <th>min</th>\n",
       "      <td>1.000000</td>\n",
       "      <td>408.000000</td>\n",
       "      <td>0.000000</td>\n",
       "      <td>0.000000</td>\n",
       "      <td>0.000000</td>\n",
       "      <td>0.000000</td>\n",
       "      <td>42.500000</td>\n",
       "      <td>12.000000</td>\n",
       "      <td>3.610000</td>\n",
       "      <td>43.700000</td>\n",
       "      <td>33.000000</td>\n",
       "      <td>1.970000</td>\n",
       "      <td>0.000000</td>\n",
       "      <td>0.000000</td>\n",
       "      <td>0.000000</td>\n",
       "      <td>0.000000</td>\n",
       "    </tr>\n",
       "    <tr>\n",
       "      <th>25%</th>\n",
       "      <td>73.000000</td>\n",
       "      <td>408.000000</td>\n",
       "      <td>0.000000</td>\n",
       "      <td>143.500000</td>\n",
       "      <td>87.000000</td>\n",
       "      <td>24.400000</td>\n",
       "      <td>167.200000</td>\n",
       "      <td>87.000000</td>\n",
       "      <td>14.210000</td>\n",
       "      <td>168.500000</td>\n",
       "      <td>87.000000</td>\n",
       "      <td>7.580000</td>\n",
       "      <td>8.500000</td>\n",
       "      <td>3.000000</td>\n",
       "      <td>2.300000</td>\n",
       "      <td>1.000000</td>\n",
       "    </tr>\n",
       "    <tr>\n",
       "      <th>50%</th>\n",
       "      <td>101.000000</td>\n",
       "      <td>415.000000</td>\n",
       "      <td>0.000000</td>\n",
       "      <td>179.100000</td>\n",
       "      <td>100.000000</td>\n",
       "      <td>30.450000</td>\n",
       "      <td>201.300000</td>\n",
       "      <td>100.000000</td>\n",
       "      <td>17.110000</td>\n",
       "      <td>202.400000</td>\n",
       "      <td>100.000000</td>\n",
       "      <td>9.110000</td>\n",
       "      <td>10.300000</td>\n",
       "      <td>4.000000</td>\n",
       "      <td>2.780000</td>\n",
       "      <td>1.000000</td>\n",
       "    </tr>\n",
       "    <tr>\n",
       "      <th>75%</th>\n",
       "      <td>127.000000</td>\n",
       "      <td>510.000000</td>\n",
       "      <td>18.000000</td>\n",
       "      <td>215.600000</td>\n",
       "      <td>114.000000</td>\n",
       "      <td>36.650000</td>\n",
       "      <td>235.200000</td>\n",
       "      <td>114.000000</td>\n",
       "      <td>19.990000</td>\n",
       "      <td>237.300000</td>\n",
       "      <td>114.000000</td>\n",
       "      <td>10.680000</td>\n",
       "      <td>12.100000</td>\n",
       "      <td>6.000000</td>\n",
       "      <td>3.270000</td>\n",
       "      <td>2.000000</td>\n",
       "    </tr>\n",
       "    <tr>\n",
       "      <th>max</th>\n",
       "      <td>243.000000</td>\n",
       "      <td>510.000000</td>\n",
       "      <td>51.000000</td>\n",
       "      <td>350.800000</td>\n",
       "      <td>165.000000</td>\n",
       "      <td>59.640000</td>\n",
       "      <td>363.700000</td>\n",
       "      <td>170.000000</td>\n",
       "      <td>30.910000</td>\n",
       "      <td>395.000000</td>\n",
       "      <td>166.000000</td>\n",
       "      <td>17.770000</td>\n",
       "      <td>20.000000</td>\n",
       "      <td>20.000000</td>\n",
       "      <td>5.400000</td>\n",
       "      <td>9.000000</td>\n",
       "    </tr>\n",
       "  </tbody>\n",
       "</table>\n",
       "</div>"
      ],
      "text/plain": [
       "       account length    area code  number vmail messages  total day minutes  \\\n",
       "count     2249.000000  2249.000000            2249.000000        2249.000000   \n",
       "mean       101.029346   437.572254               7.890618         179.182259   \n",
       "std         39.941851    42.603258              13.580967          54.724285   \n",
       "min          1.000000   408.000000               0.000000           0.000000   \n",
       "25%         73.000000   408.000000               0.000000         143.500000   \n",
       "50%        101.000000   415.000000               0.000000         179.100000   \n",
       "75%        127.000000   510.000000              18.000000         215.600000   \n",
       "max        243.000000   510.000000              51.000000         350.800000   \n",
       "\n",
       "       total day calls  total day charge  total eve minutes  total eve calls  \\\n",
       "count      2249.000000       2249.000000        2249.000000      2249.000000   \n",
       "mean         99.921743         30.461547         201.171676       100.203646   \n",
       "std          20.045081          9.303134          50.375700        19.868593   \n",
       "min           0.000000          0.000000          42.500000        12.000000   \n",
       "25%          87.000000         24.400000         167.200000        87.000000   \n",
       "50%         100.000000         30.450000         201.300000       100.000000   \n",
       "75%         114.000000         36.650000         235.200000       114.000000   \n",
       "max         165.000000         59.640000         363.700000       170.000000   \n",
       "\n",
       "       total eve charge  total night minutes  total night calls  \\\n",
       "count       2249.000000          2249.000000        2249.000000   \n",
       "mean          17.099831           202.469453         100.244108   \n",
       "std            4.281931            50.522384          19.431706   \n",
       "min            3.610000            43.700000          33.000000   \n",
       "25%           14.210000           168.500000          87.000000   \n",
       "50%           17.110000           202.400000         100.000000   \n",
       "75%           19.990000           237.300000         114.000000   \n",
       "max           30.910000           395.000000         166.000000   \n",
       "\n",
       "       total night charge  total intl minutes  total intl calls  \\\n",
       "count         2249.000000         2249.000000       2249.000000   \n",
       "mean             9.111232           10.255225          4.436639   \n",
       "std              2.273568            2.827567          2.439045   \n",
       "min              1.970000            0.000000          0.000000   \n",
       "25%              7.580000            8.500000          3.000000   \n",
       "50%              9.110000           10.300000          4.000000   \n",
       "75%             10.680000           12.100000          6.000000   \n",
       "max             17.770000           20.000000         20.000000   \n",
       "\n",
       "       total intl charge  customer service calls  \n",
       "count        2249.000000             2249.000000  \n",
       "mean            2.769413                1.576701  \n",
       "std             0.763389                1.332094  \n",
       "min             0.000000                0.000000  \n",
       "25%             2.300000                1.000000  \n",
       "50%             2.780000                1.000000  \n",
       "75%             3.270000                2.000000  \n",
       "max             5.400000                9.000000  "
      ]
     },
     "execution_count": 214,
     "metadata": {},
     "output_type": "execute_result"
    }
   ],
   "source": [
    "df_train.describe()"
   ]
  },
  {
   "cell_type": "code",
   "execution_count": 215,
   "metadata": {},
   "outputs": [
    {
     "data": {
      "text/plain": [
       "no     2028\n",
       "yes     221\n",
       "Name: international plan, dtype: int64"
      ]
     },
     "execution_count": 215,
     "metadata": {},
     "output_type": "execute_result"
    }
   ],
   "source": [
    "df_train[\"international plan\"].value_counts()"
   ]
  },
  {
   "cell_type": "markdown",
   "metadata": {},
   "source": [
    "The training dataset has 2249 examples, 1917 of them are customers who stayed (labelled as false). The number of calls made at night is roughly the same as those made during the day, 100.24 as opposed to 99.92. Most customers did not have an international plan, that is 2028 customers."
   ]
  },
  {
   "cell_type": "markdown",
   "metadata": {},
   "source": [
    "#### 3(b)\n",
    "rubric={points:20}\n",
    "\n",
    "In preparation for building a classifier, perform whatever feature transformations you deem sensible. Use `ColumnTransformer` to combine the transformations (see Lecture 6 or 8). This can include dropping features if you think they are not helpful. \n",
    "\n",
    "In each case, briefly explain your rationale with 1-2 sentences. You do not need an explanation for every feature, but for every group of features that are being transformed the same way. For example, \"I am doing transformation X to the following categorical features: `a`, `b`, `c` because of reason Y,\" etc.\n",
    "\n",
    "Warning: as discussed in lecture, make sure not to violate the golden rule; you should not be calling `fit` or `fit_transform` on any test data!"
   ]
  },
  {
   "cell_type": "code",
   "execution_count": 216,
   "metadata": {},
   "outputs": [],
   "source": [
    "X_train = df_train.drop(columns='churn')\n",
    "X_valid = df_valid.drop(columns='churn')\n",
    "y_train = df_train['churn']\n",
    "y_valid = df_valid['churn']"
   ]
  },
  {
   "cell_type": "code",
   "execution_count": 217,
   "metadata": {},
   "outputs": [],
   "source": [
    "numeric_features = ['account length', 'number vmail messages', \n",
    "                    'total day minutes', 'total day calls', 'total day charge',\n",
    "                    'total eve minutes', 'total eve calls', 'total eve charge',\n",
    "                    'total night minutes', 'total night calls', 'total night charge', \n",
    "                    'total intl minutes', 'total intl calls', 'total intl charge', 'customer service calls']\n",
    "\n",
    "categorical_features = ['state', 'voice mail plan', 'international plan']"
   ]
  },
  {
   "cell_type": "code",
   "execution_count": 218,
   "metadata": {},
   "outputs": [],
   "source": [
    "# Create the feature transformer\n",
    "preprocessor = ColumnTransformer(\n",
    "    transformers=[\n",
    "        ('scale', StandardScaler(), numeric_features),\n",
    "        ('ohe', OneHotEncoder(drop=\"first\", sparse=False), categorical_features)])\n",
    "\n",
    "# Fit on training data\n",
    "preprocessor.fit(X_train);\n",
    "\n",
    "# Get list of transformed columns\n",
    "columns = numeric_features + list(preprocessor.named_transformers_['ohe']\n",
    "                                     .get_feature_names(categorical_features))\n",
    "# transform training and validation datasets\n",
    "X_train_transformed = pd.DataFrame(preprocessor.transform(X_train), index=X_train.index, columns=columns)\n",
    "X_valid_transformed = pd.DataFrame(preprocessor.transform(X_valid), index=X_valid.index, columns=columns)"
   ]
  },
  {
   "cell_type": "markdown",
   "metadata": {},
   "source": [
    "First, got rid of features that are not useful for training such as `phone number` and `area code`. The next step was to transform categorical features to numerical ones using `one hot encoding`. And lastly, standardized numerical features using `standard scaler` to center them around around zero"
   ]
  },
  {
   "cell_type": "markdown",
   "metadata": {},
   "source": [
    "#### 3(c)\n",
    "rubric={points:10}\n",
    "\n",
    "\"Train\" a `DummyClassifier` on your transformed data, using `strategy='prior'` as in Exercise 1. Report the following:\n",
    "\n",
    "1. Train and validation accuracy.\n",
    "2. Confusion matrix on the validation data.\n",
    "3. Precision, recall, F1-score on the validation data.\n",
    "\n",
    "Briefly comment on your results (2 sentences max)."
   ]
  },
  {
   "cell_type": "code",
   "execution_count": 219,
   "metadata": {},
   "outputs": [
    {
     "name": "stdout",
     "output_type": "stream",
     "text": [
      "Training accuracy: 0.852\n",
      "Validation accuracy: 0.848\n"
     ]
    }
   ],
   "source": [
    "# dummy classifier to establish base accuracy\n",
    "dc = DummyClassifier(strategy=\"prior\")\n",
    "dc.fit(X_train_transformed, y_train);\n",
    "\n",
    "print(\"Training accuracy: %.3f\" % (dc.score(X_train_transformed, y_train)))\n",
    "print(\"Validation accuracy: %.3f\" % (dc.score(X_valid_transformed, y_valid)))"
   ]
  },
  {
   "cell_type": "code",
   "execution_count": 220,
   "metadata": {},
   "outputs": [
    {
     "data": {
      "image/png": "[encoded data removed]",
      "text/plain": [
       "<Figure size 432x288 with 2 Axes>"
      ]
     },
     "metadata": {
      "needs_background": "light"
     },
     "output_type": "display_data"
    }
   ],
   "source": [
    "# plot confusion matrix\n",
    "disp = plot_confusion_matrix(dc, X_valid, y_valid,\n",
    "                             display_labels=['Stayed', 'Left'],\n",
    "                             cmap=plt.cm.Blues, \n",
    "                             values_format = 'd')\n",
    "disp.ax_.set_title('Confusion matrix for dummy classifier');"
   ]
  },
  {
   "cell_type": "code",
   "execution_count": 221,
   "metadata": {},
   "outputs": [
    {
     "name": "stdout",
     "output_type": "stream",
     "text": [
      "[[636   0]\n",
      " [114   0]]\n"
     ]
    },
    {
     "name": "stderr",
     "output_type": "stream",
     "text": [
      "C:\\Users\\Ahmed\\Anaconda3\\lib\\site-packages\\ipykernel_launcher.py:9: RuntimeWarning: invalid value encountered in longlong_scalars\n",
      "  if __name__ == '__main__':\n"
     ]
    },
    {
     "data": {
      "text/html": [
       "<div>\n",
       "<style scoped>\n",
       "    .dataframe tbody tr th:only-of-type {\n",
       "        vertical-align: middle;\n",
       "    }\n",
       "\n",
       "    .dataframe tbody tr th {\n",
       "        vertical-align: top;\n",
       "    }\n",
       "\n",
       "    .dataframe thead th {\n",
       "        text-align: right;\n",
       "    }\n",
       "</style>\n",
       "<table border=\"1\" class=\"dataframe\">\n",
       "  <thead>\n",
       "    <tr style=\"text-align: right;\">\n",
       "      <th></th>\n",
       "      <th>accuracy</th>\n",
       "      <th>error</th>\n",
       "      <th>precision</th>\n",
       "      <th>recall</th>\n",
       "      <th>f1</th>\n",
       "    </tr>\n",
       "  </thead>\n",
       "  <tbody>\n",
       "    <tr>\n",
       "      <th>0</th>\n",
       "      <td>0.848</td>\n",
       "      <td>0.152</td>\n",
       "      <td>NaN</td>\n",
       "      <td>0.0</td>\n",
       "      <td>NaN</td>\n",
       "    </tr>\n",
       "  </tbody>\n",
       "</table>\n",
       "</div>"
      ],
      "text/plain": [
       "   accuracy  error  precision  recall  f1\n",
       "0     0.848  0.152        NaN     0.0 NaN"
      ]
     },
     "execution_count": 221,
     "metadata": {},
     "output_type": "execute_result"
    }
   ],
   "source": [
    "# Dummy classifier metrics\n",
    "model_metrics(dc, X_valid_transformed, y_valid)"
   ]
  },
  {
   "cell_type": "markdown",
   "metadata": {},
   "source": [
    "The base classifier has validation accuracy of $84.4\\%$, obtained by predicting the most common class label for customers which is `Stayed`"
   ]
  },
  {
   "cell_type": "markdown",
   "metadata": {},
   "source": [
    "#### 3(d)\n",
    "rubric={points:20} \n",
    "\n",
    "Train a logistic regression classifier on your transformed data, using the default hyperparameters. Report the following metrics:\n",
    "\n",
    "1. Train and validation accuracy.\n",
    "2. Confusion matrix on the validation data.\n",
    "3. Precision, recall, F1-score on the validation data.\n",
    "\n",
    "Are you satisfied with the results? Use your `DummyClassifier` results as a reference point. Briefly discuss (1 paragraph max). "
   ]
  },
  {
   "cell_type": "code",
   "execution_count": 222,
   "metadata": {},
   "outputs": [
    {
     "name": "stdout",
     "output_type": "stream",
     "text": [
      "Training accuracy: 0.871\n",
      "Validation accuracy: 0.861\n"
     ]
    }
   ],
   "source": [
    "# logistic regression model\n",
    "lr = LogisticRegression()\n",
    "lr.fit(X_train_transformed, y_train);\n",
    "\n",
    "print(\"Training accuracy: %.3f\" % (lr.score(X_train_transformed, y_train)))\n",
    "print(\"Validation accuracy: %.3f\" % (lr.score(X_valid_transformed, y_valid)))"
   ]
  },
  {
   "cell_type": "code",
   "execution_count": 223,
   "metadata": {},
   "outputs": [
    {
     "data": {
      "image/png": "[encoded data removed]",
      "text/plain": [
       "<Figure size 432x288 with 2 Axes>"
      ]
     },
     "metadata": {
      "needs_background": "light"
     },
     "output_type": "display_data"
    }
   ],
   "source": [
    "# plot confusion matrix\n",
    "disp = plot_confusion_matrix(lr, X_valid_transformed, y_valid,\n",
    "                             display_labels=['Stayed', 'Left'],\n",
    "                             cmap=plt.cm.Blues, \n",
    "                             values_format = 'd')\n",
    "disp.ax_.set_title('Confusion matrix for logistic regression');"
   ]
  },
  {
   "cell_type": "code",
   "execution_count": 224,
   "metadata": {},
   "outputs": [
    {
     "name": "stdout",
     "output_type": "stream",
     "text": [
      "[[620  16]\n",
      " [ 88  26]]\n"
     ]
    },
    {
     "data": {
      "text/html": [
       "<div>\n",
       "<style scoped>\n",
       "    .dataframe tbody tr th:only-of-type {\n",
       "        vertical-align: middle;\n",
       "    }\n",
       "\n",
       "    .dataframe tbody tr th {\n",
       "        vertical-align: top;\n",
       "    }\n",
       "\n",
       "    .dataframe thead th {\n",
       "        text-align: right;\n",
       "    }\n",
       "</style>\n",
       "<table border=\"1\" class=\"dataframe\">\n",
       "  <thead>\n",
       "    <tr style=\"text-align: right;\">\n",
       "      <th></th>\n",
       "      <th>accuracy</th>\n",
       "      <th>error</th>\n",
       "      <th>precision</th>\n",
       "      <th>recall</th>\n",
       "      <th>f1</th>\n",
       "    </tr>\n",
       "  </thead>\n",
       "  <tbody>\n",
       "    <tr>\n",
       "      <th>0</th>\n",
       "      <td>0.861333</td>\n",
       "      <td>0.138667</td>\n",
       "      <td>0.619048</td>\n",
       "      <td>0.22807</td>\n",
       "      <td>0.333333</td>\n",
       "    </tr>\n",
       "  </tbody>\n",
       "</table>\n",
       "</div>"
      ],
      "text/plain": [
       "   accuracy     error  precision   recall        f1\n",
       "0  0.861333  0.138667   0.619048  0.22807  0.333333"
      ]
     },
     "execution_count": 224,
     "metadata": {},
     "output_type": "execute_result"
    }
   ],
   "source": [
    "# Logistic regression classifier metrics\n",
    "model_metrics(lr, X_valid_transformed, y_valid)"
   ]
  },
  {
   "cell_type": "markdown",
   "metadata": {},
   "source": [
    "Compared to the dummy classifier, the logistic regression model has a better validation accuracy of $86.1\\%$. It has better precision of $0.62$ and recall of $0.228$. All of these are an improvement over the base classifier"
   ]
  },
  {
   "cell_type": "markdown",
   "metadata": {},
   "source": [
    "#### 3(e)\n",
    "rubric={points:5}\n",
    "\n",
    "Set the `class_weight` parameter of your logistic regression model to `'balanced'`. Report the following metrics:\n",
    "\n",
    "1. Train and validation accuracy.\n",
    "2. Confusion matrix on the validation data.\n",
    "3. Precision, recall, F1-score on the validation data.\n",
    "\n",
    "Discuss your results in 1-3 sentences."
   ]
  },
  {
   "cell_type": "code",
   "execution_count": 225,
   "metadata": {},
   "outputs": [
    {
     "name": "stdout",
     "output_type": "stream",
     "text": [
      "Training accuracy: 0.779\n",
      "Validation accuracy: 0.749\n"
     ]
    }
   ],
   "source": [
    "# Logsitic regression model, with balanced class weights \n",
    "blr = LogisticRegression(class_weight='balanced')\n",
    "blr.fit(X_train_transformed, y_train);\n",
    "\n",
    "print(\"Training accuracy: %.3f\" % (blr.score(X_train_transformed, y_train)))\n",
    "print(\"Validation accuracy: %.3f\" % (blr.score(X_valid_transformed, y_valid)))"
   ]
  },
  {
   "cell_type": "code",
   "execution_count": 226,
   "metadata": {},
   "outputs": [
    {
     "data": {
      "image/png": "[encoded data removed]",
      "text/plain": [
       "<Figure size 432x288 with 2 Axes>"
      ]
     },
     "metadata": {
      "needs_background": "light"
     },
     "output_type": "display_data"
    }
   ],
   "source": [
    "# plot confusion matrix\n",
    "disp = plot_confusion_matrix(blr, X_valid_transformed, y_valid,\n",
    "                             display_labels=['Stayed', 'Left'],\n",
    "                             cmap=plt.cm.Blues, \n",
    "                             values_format = 'd')\n",
    "disp.ax_.set_title('Confusion matrix for balanced logistic regression');"
   ]
  },
  {
   "cell_type": "code",
   "execution_count": 227,
   "metadata": {},
   "outputs": [
    {
     "name": "stdout",
     "output_type": "stream",
     "text": [
      "[[483 153]\n",
      " [ 35  79]]\n"
     ]
    },
    {
     "data": {
      "text/html": [
       "<div>\n",
       "<style scoped>\n",
       "    .dataframe tbody tr th:only-of-type {\n",
       "        vertical-align: middle;\n",
       "    }\n",
       "\n",
       "    .dataframe tbody tr th {\n",
       "        vertical-align: top;\n",
       "    }\n",
       "\n",
       "    .dataframe thead th {\n",
       "        text-align: right;\n",
       "    }\n",
       "</style>\n",
       "<table border=\"1\" class=\"dataframe\">\n",
       "  <thead>\n",
       "    <tr style=\"text-align: right;\">\n",
       "      <th></th>\n",
       "      <th>accuracy</th>\n",
       "      <th>error</th>\n",
       "      <th>precision</th>\n",
       "      <th>recall</th>\n",
       "      <th>f1</th>\n",
       "    </tr>\n",
       "  </thead>\n",
       "  <tbody>\n",
       "    <tr>\n",
       "      <th>0</th>\n",
       "      <td>0.749333</td>\n",
       "      <td>0.250667</td>\n",
       "      <td>0.340517</td>\n",
       "      <td>0.692982</td>\n",
       "      <td>0.456647</td>\n",
       "    </tr>\n",
       "  </tbody>\n",
       "</table>\n",
       "</div>"
      ],
      "text/plain": [
       "   accuracy     error  precision    recall        f1\n",
       "0  0.749333  0.250667   0.340517  0.692982  0.456647"
      ]
     },
     "execution_count": 227,
     "metadata": {},
     "output_type": "execute_result"
    }
   ],
   "source": [
    "# Logistic regression classifier metrics\n",
    "model_metrics(blr, X_valid_transformed, y_valid)"
   ]
  },
  {
   "cell_type": "markdown",
   "metadata": {},
   "source": [
    "Validation accuracy of the logistic regressor with balanced class weights is $74.9\\%$ which is below that of the vanilla logistic classifier. However, it has better recall of $0.692$ due to the increased number of true positive predictions (customers who indeed left)"
   ]
  },
  {
   "cell_type": "markdown",
   "metadata": {},
   "source": [
    "#### 3(f)\n",
    "rubric={points:5}\n",
    "\n",
    "On the same axes, plot the ROC curves for the three methods we tried. Make sure you have a legend labeling which curve is which. Also, report the AUC in each case. Briefly comment on your results (1 sentence).\n"
   ]
  },
  {
   "cell_type": "code",
   "execution_count": 228,
   "metadata": {},
   "outputs": [
    {
     "data": {
      "image/png": "[encoded data removed]",
      "text/plain": [
       "<Figure size 432x288 with 1 Axes>"
      ]
     },
     "metadata": {
      "needs_background": "light"
     },
     "output_type": "display_data"
    }
   ],
   "source": [
    "models = [dc, lr, blr]\n",
    "model_names = ['Dummy classifier', 'Logistic reg', 'Balanced logistic reg']\n",
    "for i, model in enumerate(models):\n",
    "    fpr, tpr, thresholds = roc_curve(y_valid, model.predict_proba(X_valid_transformed)[:,1])\n",
    "    plt.plot(fpr, tpr, label=model_names[i]);\n",
    "    plt.plot((0,1),(0,1),'--k');\n",
    "    ind = np.argmin(np.abs(thresholds-0.5))\n",
    "    plt.plot(fpr[ind], tpr[ind], 'ro', markersize=13)\n",
    "    plt.xlabel('false positive rate');\n",
    "    plt.ylabel('true positive rate');\n",
    "    plt.title(\"ROC curve\");\n",
    "    plt.legend();"
   ]
  },
  {
   "cell_type": "code",
   "execution_count": 229,
   "metadata": {},
   "outputs": [
    {
     "data": {
      "text/plain": [
       "0.791087388282026"
      ]
     },
     "execution_count": 229,
     "metadata": {},
     "output_type": "execute_result"
    }
   ],
   "source": [
    "# Logistic regression AUC\n",
    "roc_auc_score(y_valid, lr.predict_proba(X_valid_transformed)[:,1])"
   ]
  },
  {
   "cell_type": "code",
   "execution_count": 230,
   "metadata": {},
   "outputs": [
    {
     "data": {
      "text/plain": [
       "0.7946182279598367"
      ]
     },
     "execution_count": 230,
     "metadata": {},
     "output_type": "execute_result"
    }
   ],
   "source": [
    "# Balanced logistic regression AUC\n",
    "roc_auc_score(y_valid, blr.predict_proba(X_valid_transformed)[:,1])"
   ]
  },
  {
   "cell_type": "code",
   "execution_count": 231,
   "metadata": {},
   "outputs": [
    {
     "data": {
      "text/plain": [
       "0.5"
      ]
     },
     "execution_count": 231,
     "metadata": {},
     "output_type": "execute_result"
    }
   ],
   "source": [
    "# Dummy classifier AUC\n",
    "roc_auc_score(y_valid, dc.predict(X_valid_transformed))"
   ]
  },
  {
   "cell_type": "markdown",
   "metadata": {},
   "source": [
    "Both logistic and balanced logistic regressors perform better than the dummy classifier, with AUC = 0.79 that is close to the perfect classifier (AUC = 1)"
   ]
  },
  {
   "cell_type": "markdown",
   "metadata": {},
   "source": [
    "#### 3(g)\n",
    "rubric={points:10}\n",
    "\n",
    "The function below plots histograms of the predicted probability, split by the true class, for each of the two logistic regression models. These are similar to the animated plots from lecture. \n",
    "\n",
    "Call this function using your (transformed) **validation** data and your two logistic regression models. Then, discuss your results. How did the regular and balanced logistic regression models compare in terms of accuracy and recall? How did the two models compare in terms of ROC curves? Do these new plots help explain what is going on here? Max 1 paragraph."
   ]
  },
  {
   "cell_type": "code",
   "execution_count": 232,
   "metadata": {},
   "outputs": [],
   "source": [
    "def make_hists(X, y, lr_original, lr_balanced):\n",
    "\n",
    "    negative_examples = X[y == 0]\n",
    "    positive_examples = X[y == 1]\n",
    "\n",
    "    for name, model in {\"log reg\" : lr, \"log reg balanced\" :lr_balanced}.items():\n",
    "\n",
    "        plt.hist(model.predict_proba(negative_examples)[:,1], alpha=0.5, bins=30, label=\"0\", density=True)\n",
    "        plt.hist(model.predict_proba(positive_examples)[:,1], alpha=0.5, bins=30, label=\"1\", density=True)\n",
    "        plt.legend(loc='upper right')\n",
    "\n",
    "        plt.xlabel(\"predicted probability\")\n",
    "        plt.ylabel(\"normalized counts\")\n",
    "        plt.title(name);\n",
    "        plt.show()\n",
    "    "
   ]
  },
  {
   "cell_type": "code",
   "execution_count": 233,
   "metadata": {},
   "outputs": [
    {
     "data": {
      "image/png": "[encoded data removed]",
      "text/plain": [
       "<Figure size 432x288 with 1 Axes>"
      ]
     },
     "metadata": {
      "needs_background": "light"
     },
     "output_type": "display_data"
    },
    {
     "data": {
      "image/png": "[encoded data removed]",
      "text/plain": [
       "<Figure size 432x288 with 1 Axes>"
      ]
     },
     "metadata": {
      "needs_background": "light"
     },
     "output_type": "display_data"
    }
   ],
   "source": [
    "make_hists(X_valid_transformed, y_valid, lr, blr)"
   ]
  },
  {
   "cell_type": "markdown",
   "metadata": {},
   "source": [
    "In terms of validation accuracy, the original logistic regression model performs better than the one with balanced class weights, $86.1$ as opposed to $79.4$. But it has lower recall of $0.228$ as opposed to $0.692$, which means it was less able to identify true positive examples. The ROC curves for both models were quite similar"
   ]
  },
  {
   "cell_type": "markdown",
   "metadata": {},
   "source": [
    "## Exercise 4: Hyperparameter optimization"
   ]
  },
  {
   "cell_type": "markdown",
   "metadata": {},
   "source": [
    "#### 4(a)\n",
    "rubric={points:5}\n",
    "\n",
    "Try applying a random forest to this problem, again using `class_weight='balanced'`. Report the following metrics:\n",
    "\n",
    "1. Train and validation accuracy.\n",
    "2. Confusion matrix on the validation data.\n",
    "3. Precision, recall, F1-score on the validation data. \n",
    "\n",
    "Briefly comment on the results (max 2 sentences)."
   ]
  },
  {
   "cell_type": "code",
   "execution_count": 234,
   "metadata": {},
   "outputs": [
    {
     "name": "stdout",
     "output_type": "stream",
     "text": [
      "Training accuracy: 1.000\n",
      "Validation accuracy: 0.924\n"
     ]
    }
   ],
   "source": [
    "# Random forest classifier with balanced class weights \n",
    "rf = RandomForestClassifier(class_weight='balanced')\n",
    "rf.fit(X_train_transformed, y_train);\n",
    "\n",
    "print(\"Training accuracy: %.3f\" % (rf.score(X_train_transformed, y_train)))\n",
    "print(\"Validation accuracy: %.3f\" % (rf.score(X_valid_transformed, y_valid)))"
   ]
  },
  {
   "cell_type": "code",
   "execution_count": 235,
   "metadata": {},
   "outputs": [
    {
     "data": {
      "image/png": "[encoded data removed]",
      "text/plain": [
       "<Figure size 432x288 with 2 Axes>"
      ]
     },
     "metadata": {
      "needs_background": "light"
     },
     "output_type": "display_data"
    }
   ],
   "source": [
    "# plot confusion matrix\n",
    "disp = plot_confusion_matrix(rf, X_valid_transformed, y_valid,\n",
    "                             display_labels=['Stayed', 'Left'],\n",
    "                             cmap=plt.cm.Blues, \n",
    "                             values_format = 'd')\n",
    "disp.ax_.set_title('Confusion matrix for balanced random forest classifier');"
   ]
  },
  {
   "cell_type": "code",
   "execution_count": 236,
   "metadata": {},
   "outputs": [
    {
     "name": "stdout",
     "output_type": "stream",
     "text": [
      "[[633   3]\n",
      " [ 54  60]]\n"
     ]
    },
    {
     "data": {
      "text/html": [
       "<div>\n",
       "<style scoped>\n",
       "    .dataframe tbody tr th:only-of-type {\n",
       "        vertical-align: middle;\n",
       "    }\n",
       "\n",
       "    .dataframe tbody tr th {\n",
       "        vertical-align: top;\n",
       "    }\n",
       "\n",
       "    .dataframe thead th {\n",
       "        text-align: right;\n",
       "    }\n",
       "</style>\n",
       "<table border=\"1\" class=\"dataframe\">\n",
       "  <thead>\n",
       "    <tr style=\"text-align: right;\">\n",
       "      <th></th>\n",
       "      <th>accuracy</th>\n",
       "      <th>error</th>\n",
       "      <th>precision</th>\n",
       "      <th>recall</th>\n",
       "      <th>f1</th>\n",
       "    </tr>\n",
       "  </thead>\n",
       "  <tbody>\n",
       "    <tr>\n",
       "      <th>0</th>\n",
       "      <td>0.924</td>\n",
       "      <td>0.076</td>\n",
       "      <td>0.952381</td>\n",
       "      <td>0.526316</td>\n",
       "      <td>0.677966</td>\n",
       "    </tr>\n",
       "  </tbody>\n",
       "</table>\n",
       "</div>"
      ],
      "text/plain": [
       "   accuracy  error  precision    recall        f1\n",
       "0     0.924  0.076   0.952381  0.526316  0.677966"
      ]
     },
     "execution_count": 236,
     "metadata": {},
     "output_type": "execute_result"
    }
   ],
   "source": [
    "# Random forest classifier metrics\n",
    "model_metrics(rf, X_valid_transformed, y_valid)"
   ]
  },
  {
   "cell_type": "markdown",
   "metadata": {},
   "source": [
    "The random forest classifier has the best validation accuracy of $91.6\\%$. A very high precision of 0.981 indicates that almost all of the postive predictions it made were correct "
   ]
  },
  {
   "cell_type": "markdown",
   "metadata": {},
   "source": [
    "#### 4(b)\n",
    "rubric={points:5}\n",
    "\n",
    "Next we will optimize the `n_estimators` hyperparameter of your random forest using `RandomizedSearchCV`, keeping `class_weight='balanced'`. Because cross-validation separates the folds for us, I will combine the training and validation sets so that we have more data to work with. "
   ]
  },
  {
   "cell_type": "code",
   "execution_count": 237,
   "metadata": {},
   "outputs": [],
   "source": [
    "X_train_valid = np.concatenate((X_train_transformed, X_valid_transformed), axis=0)\n",
    "y_train_valid = np.concatenate((y_train, y_valid), axis=0)"
   ]
  },
  {
   "cell_type": "code",
   "execution_count": 238,
   "metadata": {},
   "outputs": [],
   "source": [
    "import scipy.stats\n",
    "\n",
    "param_dist = {\n",
    "              \"n_estimators\"     : scipy.stats.randint(low=10, high=300),\n",
    "             }"
   ]
  },
  {
   "cell_type": "code",
   "execution_count": 239,
   "metadata": {},
   "outputs": [],
   "source": [
    "random_search = RandomizedSearchCV(RandomForestClassifier(class_weight='balanced', random_state=321), \n",
    "                                   param_distributions = param_dist, \n",
    "                                   n_iter = 20, \n",
    "                                   cv=3,\n",
    "                                   verbose=1, \n",
    "                                   random_state=123)"
   ]
  },
  {
   "cell_type": "code",
   "execution_count": 240,
   "metadata": {},
   "outputs": [
    {
     "name": "stdout",
     "output_type": "stream",
     "text": [
      "Fitting 3 folds for each of 20 candidates, totalling 60 fits\n"
     ]
    },
    {
     "name": "stderr",
     "output_type": "stream",
     "text": [
      "[Parallel(n_jobs=1)]: Using backend SequentialBackend with 1 concurrent workers.\n",
      "[Parallel(n_jobs=1)]: Done  60 out of  60 | elapsed:  1.2min finished\n"
     ]
    }
   ],
   "source": [
    "random_search.fit(X_train_valid, y_train_valid);"
   ]
  },
  {
   "cell_type": "code",
   "execution_count": 241,
   "metadata": {},
   "outputs": [
    {
     "data": {
      "text/plain": [
       "{'n_estimators': 263}"
      ]
     },
     "execution_count": 241,
     "metadata": {},
     "output_type": "execute_result"
    }
   ],
   "source": [
    "random_search.best_params_"
   ]
  },
  {
   "cell_type": "code",
   "execution_count": 242,
   "metadata": {},
   "outputs": [
    {
     "data": {
      "text/plain": [
       "1.0"
      ]
     },
     "execution_count": 242,
     "metadata": {},
     "output_type": "execute_result"
    }
   ],
   "source": [
    "random_search.score(X_valid_transformed, y_valid)"
   ]
  },
  {
   "cell_type": "markdown",
   "metadata": {},
   "source": [
    "This model is incredible - it gets 100% validation accuracy! This means it make no errors, so it must also be getting a perfect precision, recall, and F1-score.\n",
    "What is wrong with my analysis? Answer in 1-2 sentences.\n",
    "\n",
    "(Note: when you run the above code you might get slightly different results, depending on your feature preprocessing in Exercise 3. That is fine. Hopefully the score isn't too different.)"
   ]
  },
  {
   "cell_type": "code",
   "execution_count": 243,
   "metadata": {},
   "outputs": [
    {
     "name": "stdout",
     "output_type": "stream",
     "text": [
      "[[636   0]\n",
      " [  0 114]]\n"
     ]
    },
    {
     "data": {
      "text/html": [
       "<div>\n",
       "<style scoped>\n",
       "    .dataframe tbody tr th:only-of-type {\n",
       "        vertical-align: middle;\n",
       "    }\n",
       "\n",
       "    .dataframe tbody tr th {\n",
       "        vertical-align: top;\n",
       "    }\n",
       "\n",
       "    .dataframe thead th {\n",
       "        text-align: right;\n",
       "    }\n",
       "</style>\n",
       "<table border=\"1\" class=\"dataframe\">\n",
       "  <thead>\n",
       "    <tr style=\"text-align: right;\">\n",
       "      <th></th>\n",
       "      <th>accuracy</th>\n",
       "      <th>error</th>\n",
       "      <th>precision</th>\n",
       "      <th>recall</th>\n",
       "      <th>f1</th>\n",
       "    </tr>\n",
       "  </thead>\n",
       "  <tbody>\n",
       "    <tr>\n",
       "      <th>0</th>\n",
       "      <td>1.0</td>\n",
       "      <td>0.0</td>\n",
       "      <td>1.0</td>\n",
       "      <td>1.0</td>\n",
       "      <td>1.0</td>\n",
       "    </tr>\n",
       "  </tbody>\n",
       "</table>\n",
       "</div>"
      ],
      "text/plain": [
       "   accuracy  error  precision  recall   f1\n",
       "0       1.0    0.0        1.0     1.0  1.0"
      ]
     },
     "execution_count": 243,
     "metadata": {},
     "output_type": "execute_result"
    }
   ],
   "source": [
    "# Random search metrics\n",
    "model_metrics(random_search, X_valid_transformed, y_valid)"
   ]
  },
  {
   "cell_type": "markdown",
   "metadata": {},
   "source": [
    "The model scores 100% on validation data because it saw it before, during the training phase. This should not be the case of how validation data should be handled"
   ]
  },
  {
   "cell_type": "markdown",
   "metadata": {},
   "source": [
    "#### 4(c)\n",
    "rubric={points:5}\n",
    "\n",
    "Repeat the hyperparameter optimization from the previous part, this time doing it correctly. For your optimized model, report the F1-score on the validation set. Briefly comment on the results (max 2 sentences)."
   ]
  },
  {
   "cell_type": "code",
   "execution_count": 244,
   "metadata": {},
   "outputs": [
    {
     "name": "stdout",
     "output_type": "stream",
     "text": [
      "Fitting 3 folds for each of 20 candidates, totalling 60 fits\n"
     ]
    },
    {
     "name": "stderr",
     "output_type": "stream",
     "text": [
      "[Parallel(n_jobs=1)]: Using backend SequentialBackend with 1 concurrent workers.\n",
      "[Parallel(n_jobs=1)]: Done  60 out of  60 | elapsed:   53.3s finished\n"
     ]
    }
   ],
   "source": [
    "random_search.fit(X_train_transformed, y_train);"
   ]
  },
  {
   "cell_type": "code",
   "execution_count": 245,
   "metadata": {},
   "outputs": [
    {
     "name": "stdout",
     "output_type": "stream",
     "text": [
      "[[632   4]\n",
      " [ 56  58]]\n"
     ]
    },
    {
     "data": {
      "text/html": [
       "<div>\n",
       "<style scoped>\n",
       "    .dataframe tbody tr th:only-of-type {\n",
       "        vertical-align: middle;\n",
       "    }\n",
       "\n",
       "    .dataframe tbody tr th {\n",
       "        vertical-align: top;\n",
       "    }\n",
       "\n",
       "    .dataframe thead th {\n",
       "        text-align: right;\n",
       "    }\n",
       "</style>\n",
       "<table border=\"1\" class=\"dataframe\">\n",
       "  <thead>\n",
       "    <tr style=\"text-align: right;\">\n",
       "      <th></th>\n",
       "      <th>accuracy</th>\n",
       "      <th>error</th>\n",
       "      <th>precision</th>\n",
       "      <th>recall</th>\n",
       "      <th>f1</th>\n",
       "    </tr>\n",
       "  </thead>\n",
       "  <tbody>\n",
       "    <tr>\n",
       "      <th>0</th>\n",
       "      <td>0.92</td>\n",
       "      <td>0.08</td>\n",
       "      <td>0.935484</td>\n",
       "      <td>0.508772</td>\n",
       "      <td>0.659091</td>\n",
       "    </tr>\n",
       "  </tbody>\n",
       "</table>\n",
       "</div>"
      ],
      "text/plain": [
       "   accuracy  error  precision    recall        f1\n",
       "0      0.92   0.08   0.935484  0.508772  0.659091"
      ]
     },
     "execution_count": 245,
     "metadata": {},
     "output_type": "execute_result"
    }
   ],
   "source": [
    "# Random search metrics\n",
    "model_metrics(random_search, X_valid_transformed, y_valid)"
   ]
  },
  {
   "cell_type": "markdown",
   "metadata": {},
   "source": [
    "The random search has better accuracy than random forest with no hyperparameter optimizations, 92% as opposed to 91%. It also has a better f1 score of 0.65"
   ]
  },
  {
   "cell_type": "markdown",
   "metadata": {},
   "source": [
    "#### 4(d)\n",
    "rubric={points:5}\n",
    "\n",
    "This time optimize both `n_estimators` and `max_depth`. What F1-score do you get on the validation set?"
   ]
  },
  {
   "cell_type": "markdown",
   "metadata": {},
   "source": []
  },
  {
   "cell_type": "code",
   "execution_count": 246,
   "metadata": {},
   "outputs": [],
   "source": [
    "import scipy.stats\n",
    "\n",
    "param_dist = {\n",
    "              \"n_estimators\"     : scipy.stats.randint(low=10, high=300),\n",
    "              \"max_depth\"        : scipy.stats.randint(low=10, high=30),\n",
    "             }"
   ]
  },
  {
   "cell_type": "code",
   "execution_count": 247,
   "metadata": {},
   "outputs": [],
   "source": [
    "random_search = RandomizedSearchCV(RandomForestClassifier(class_weight='balanced', random_state=321), \n",
    "                                   param_distributions = param_dist, \n",
    "                                   n_iter = 20, \n",
    "                                   cv=3,\n",
    "                                   verbose=1, \n",
    "                                   random_state=123)"
   ]
  },
  {
   "cell_type": "code",
   "execution_count": 248,
   "metadata": {},
   "outputs": [
    {
     "name": "stdout",
     "output_type": "stream",
     "text": [
      "Fitting 3 folds for each of 20 candidates, totalling 60 fits\n"
     ]
    },
    {
     "name": "stderr",
     "output_type": "stream",
     "text": [
      "[Parallel(n_jobs=1)]: Using backend SequentialBackend with 1 concurrent workers.\n",
      "[Parallel(n_jobs=1)]: Done  60 out of  60 | elapsed:   52.3s finished\n"
     ]
    }
   ],
   "source": [
    "random_search.fit(X_train_transformed, y_train);"
   ]
  },
  {
   "cell_type": "code",
   "execution_count": 249,
   "metadata": {},
   "outputs": [
    {
     "data": {
      "text/plain": [
       "{'max_depth': 11, 'n_estimators': 106}"
      ]
     },
     "execution_count": 249,
     "metadata": {},
     "output_type": "execute_result"
    }
   ],
   "source": [
    "random_search.best_params_"
   ]
  },
  {
   "cell_type": "code",
   "execution_count": 250,
   "metadata": {},
   "outputs": [
    {
     "name": "stdout",
     "output_type": "stream",
     "text": [
      "[[626  10]\n",
      " [ 45  69]]\n"
     ]
    },
    {
     "data": {
      "text/html": [
       "<div>\n",
       "<style scoped>\n",
       "    .dataframe tbody tr th:only-of-type {\n",
       "        vertical-align: middle;\n",
       "    }\n",
       "\n",
       "    .dataframe tbody tr th {\n",
       "        vertical-align: top;\n",
       "    }\n",
       "\n",
       "    .dataframe thead th {\n",
       "        text-align: right;\n",
       "    }\n",
       "</style>\n",
       "<table border=\"1\" class=\"dataframe\">\n",
       "  <thead>\n",
       "    <tr style=\"text-align: right;\">\n",
       "      <th></th>\n",
       "      <th>accuracy</th>\n",
       "      <th>error</th>\n",
       "      <th>precision</th>\n",
       "      <th>recall</th>\n",
       "      <th>f1</th>\n",
       "    </tr>\n",
       "  </thead>\n",
       "  <tbody>\n",
       "    <tr>\n",
       "      <th>0</th>\n",
       "      <td>0.926667</td>\n",
       "      <td>0.073333</td>\n",
       "      <td>0.873418</td>\n",
       "      <td>0.605263</td>\n",
       "      <td>0.715026</td>\n",
       "    </tr>\n",
       "  </tbody>\n",
       "</table>\n",
       "</div>"
      ],
      "text/plain": [
       "   accuracy     error  precision    recall        f1\n",
       "0  0.926667  0.073333   0.873418  0.605263  0.715026"
      ]
     },
     "execution_count": 250,
     "metadata": {},
     "output_type": "execute_result"
    }
   ],
   "source": [
    "# Random search metrics\n",
    "model_metrics(random_search, X_valid_transformed, y_valid)"
   ]
  },
  {
   "cell_type": "markdown",
   "metadata": {},
   "source": [
    "Optimizing the random search for max depth and n_estimators provided more improvements in terms of accuracy and f1 score (92.6% and 0.71) compared to the previous random search step (92% and 0.65)"
   ]
  },
  {
   "cell_type": "markdown",
   "metadata": {},
   "source": [
    "#### 4(e) \n",
    "rubric={points:5}\n",
    "\n",
    "When you carry out hyperparameter optimization, by default it is maximizing accuracy. In unbalanced datasets such as churn datasets, using accuracy does not make sense. You can use different [scoring metrics](https://scikit-learn.org/stable/modules/model_evaluation.html#classification-metrics) when you carry out hyperparameter optimization using `GridSearchCV` or `RandomizedSearchCV` using the `scoring` parameter. Try optimizing your model to pick the hyerparameters with the best F1-score by setting `scoring='f1'` when creating the `RandomizedSearchCV`. What F1-score do you achieve on the validation set?\n",
    "\n",
    "Optional note / FYI: in the case of random search with a fixed random seed, you will end up exploring the same hyperparameter values as in the previous part. The only difference will be which one you consider the best. However, if you were using a fancier method like Bayesian optimization, then the choice of scoring function would actually affect which hyperparameter values were explored, because the suggested next set of hyperparameters depends on the scores of the previous ones."
   ]
  },
  {
   "cell_type": "code",
   "execution_count": 251,
   "metadata": {},
   "outputs": [],
   "source": [
    "import scipy.stats\n",
    "\n",
    "param_dist = {\n",
    "              \"n_estimators\"     : scipy.stats.randint(low=10, high=300),\n",
    "              \"max_depth\"        : scipy.stats.randint(low=10, high=30),\n",
    "             }"
   ]
  },
  {
   "cell_type": "code",
   "execution_count": 252,
   "metadata": {},
   "outputs": [],
   "source": [
    "random_search = RandomizedSearchCV(RandomForestClassifier(class_weight='balanced', random_state=321), \n",
    "                                   param_distributions = param_dist,\n",
    "                                   scoring='f1',\n",
    "                                   n_iter = 20, \n",
    "                                   cv=3,\n",
    "                                   verbose=1, \n",
    "                                   random_state=123)"
   ]
  },
  {
   "cell_type": "code",
   "execution_count": 253,
   "metadata": {},
   "outputs": [
    {
     "name": "stdout",
     "output_type": "stream",
     "text": [
      "Fitting 3 folds for each of 20 candidates, totalling 60 fits\n"
     ]
    },
    {
     "name": "stderr",
     "output_type": "stream",
     "text": [
      "[Parallel(n_jobs=1)]: Using backend SequentialBackend with 1 concurrent workers.\n",
      "[Parallel(n_jobs=1)]: Done  60 out of  60 | elapsed:   53.3s finished\n"
     ]
    }
   ],
   "source": [
    "random_search.fit(X_train_transformed, y_train);"
   ]
  },
  {
   "cell_type": "code",
   "execution_count": 254,
   "metadata": {},
   "outputs": [
    {
     "data": {
      "text/plain": [
       "{'max_depth': 10, 'n_estimators': 234}"
      ]
     },
     "execution_count": 254,
     "metadata": {},
     "output_type": "execute_result"
    }
   ],
   "source": [
    "random_search.best_params_"
   ]
  },
  {
   "cell_type": "code",
   "execution_count": 255,
   "metadata": {},
   "outputs": [
    {
     "name": "stdout",
     "output_type": "stream",
     "text": [
      "[[624  12]\n",
      " [ 40  74]]\n"
     ]
    },
    {
     "data": {
      "text/html": [
       "<div>\n",
       "<style scoped>\n",
       "    .dataframe tbody tr th:only-of-type {\n",
       "        vertical-align: middle;\n",
       "    }\n",
       "\n",
       "    .dataframe tbody tr th {\n",
       "        vertical-align: top;\n",
       "    }\n",
       "\n",
       "    .dataframe thead th {\n",
       "        text-align: right;\n",
       "    }\n",
       "</style>\n",
       "<table border=\"1\" class=\"dataframe\">\n",
       "  <thead>\n",
       "    <tr style=\"text-align: right;\">\n",
       "      <th></th>\n",
       "      <th>accuracy</th>\n",
       "      <th>error</th>\n",
       "      <th>precision</th>\n",
       "      <th>recall</th>\n",
       "      <th>f1</th>\n",
       "    </tr>\n",
       "  </thead>\n",
       "  <tbody>\n",
       "    <tr>\n",
       "      <th>0</th>\n",
       "      <td>0.930667</td>\n",
       "      <td>0.069333</td>\n",
       "      <td>0.860465</td>\n",
       "      <td>0.649123</td>\n",
       "      <td>0.74</td>\n",
       "    </tr>\n",
       "  </tbody>\n",
       "</table>\n",
       "</div>"
      ],
      "text/plain": [
       "   accuracy     error  precision    recall    f1\n",
       "0  0.930667  0.069333   0.860465  0.649123  0.74"
      ]
     },
     "execution_count": 255,
     "metadata": {},
     "output_type": "execute_result"
    }
   ],
   "source": [
    "# Random search metrics\n",
    "model_metrics(random_search, X_valid_transformed, y_valid)"
   ]
  },
  {
   "cell_type": "markdown",
   "metadata": {},
   "source": [
    "This random search achieves the highest f1 score of 0.74"
   ]
  },
  {
   "cell_type": "markdown",
   "metadata": {},
   "source": [
    "#### 4(f)\n",
    "rubric={points:5}\n",
    "\n",
    "Evaluate your final model on the test data. Briefly discuss your results (1-2 sentences)."
   ]
  },
  {
   "cell_type": "code",
   "execution_count": 258,
   "metadata": {},
   "outputs": [],
   "source": [
    "# Transform test data\n",
    "X_test = df_test.drop(columns='churn')\n",
    "y_test = df_test['churn']\n",
    "X_test_transformed = pd.DataFrame(preprocessor.transform(X_test), index=X_test.index, columns=columns)"
   ]
  },
  {
   "cell_type": "code",
   "execution_count": 264,
   "metadata": {},
   "outputs": [
    {
     "name": "stdout",
     "output_type": "stream",
     "text": [
      "[[291   6]\n",
      " [ 14  23]]\n"
     ]
    },
    {
     "data": {
      "text/html": [
       "<div>\n",
       "<style scoped>\n",
       "    .dataframe tbody tr th:only-of-type {\n",
       "        vertical-align: middle;\n",
       "    }\n",
       "\n",
       "    .dataframe tbody tr th {\n",
       "        vertical-align: top;\n",
       "    }\n",
       "\n",
       "    .dataframe thead th {\n",
       "        text-align: right;\n",
       "    }\n",
       "</style>\n",
       "<table border=\"1\" class=\"dataframe\">\n",
       "  <thead>\n",
       "    <tr style=\"text-align: right;\">\n",
       "      <th></th>\n",
       "      <th>accuracy</th>\n",
       "      <th>error</th>\n",
       "      <th>precision</th>\n",
       "      <th>recall</th>\n",
       "      <th>f1</th>\n",
       "    </tr>\n",
       "  </thead>\n",
       "  <tbody>\n",
       "    <tr>\n",
       "      <th>0</th>\n",
       "      <td>0.94012</td>\n",
       "      <td>0.05988</td>\n",
       "      <td>0.793103</td>\n",
       "      <td>0.621622</td>\n",
       "      <td>0.69697</td>\n",
       "    </tr>\n",
       "  </tbody>\n",
       "</table>\n",
       "</div>"
      ],
      "text/plain": [
       "   accuracy    error  precision    recall       f1\n",
       "0   0.94012  0.05988   0.793103  0.621622  0.69697"
      ]
     },
     "execution_count": 264,
     "metadata": {},
     "output_type": "execute_result"
    }
   ],
   "source": [
    "# Random search metrics on test data\n",
    "model_metrics(random_search, X_test_transformed, y_test)"
   ]
  },
  {
   "cell_type": "markdown",
   "metadata": {},
   "source": [
    "The random search model has very high test accuracy of 94%, in addition to high recall and precision. It does not seem to suffer from overfitting."
   ]
  },
  {
   "cell_type": "code",
   "execution_count": null,
   "metadata": {},
   "outputs": [],
   "source": []
  }
 ],
 "metadata": {
  "anaconda-cloud": {},
  "kernelspec": {
   "display_name": "Python 3",
   "language": "python",
   "name": "python3"
  },
  "language_info": {
   "codemirror_mode": {
    "name": "ipython",
    "version": 3
   },
   "file_extension": ".py",
   "mimetype": "text/x-python",
   "name": "python",
   "nbconvert_exporter": "python",
   "pygments_lexer": "ipython3",
   "version": "3.7.6"
  },
  "name": "_merged",
  "toc": {
   "colors": {
    "hover_highlight": "#DAA520",
    "navigate_num": "#000000",
    "navigate_text": "#333333",
    "running_highlight": "#FF0000",
    "selected_highlight": "#FFD700",
    "sidebar_border": "#EEEEEE",
    "wrapper_background": "#FFFFFF"
   },
   "moveMenuLeft": true,
   "nav_menu": {
    "height": "438px",
    "width": "252px"
   },
   "navigate_menu": true,
   "number_sections": true,
   "sideBar": true,
   "threshold": 4,
   "toc_cell": false,
   "toc_section_display": "block",
   "toc_window_display": false,
   "widenNotebook": false
  }
 },
 "nbformat": 4,
 "nbformat_minor": 4
}
