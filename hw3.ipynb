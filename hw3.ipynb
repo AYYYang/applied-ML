{
 "cells": [
  {
   "cell_type": "markdown",
   "metadata": {},
   "source": [
    "# CPSC 330 hw3"
   ]
  },
  {
   "cell_type": "code",
   "execution_count": 2,
   "metadata": {},
   "outputs": [],
   "source": [
    "import numpy as np\n",
    "import pandas as pd\n",
    "import matplotlib.pyplot as plt\n",
    "%matplotlib inline\n",
    "\n",
    "from sklearn import tree\n",
    "from sklearn.svm import SVC\n",
    "from sklearn.preprocessing import StandardScaler\n",
    "from sklearn.model_selection import train_test_split\n",
    "from sklearn.linear_model import LogisticRegression\n",
    "from sklearn.tree import DecisionTreeClassifier\n",
    "from sklearn.ensemble import RandomForestClassifier\n",
    "from sklearn.compose import ColumnTransformer\n",
    "from sklearn.preprocessing import OneHotEncoder\n",
    "from sklearn.pipeline import Pipeline\n",
    "\n",
    "from plot_classifier import plot_classifier"
   ]
  },
  {
   "cell_type": "markdown",
   "metadata": {},
   "source": [
    "## Instructions\n",
    "rubric={points:5}\n",
    "\n",
    "Follow the [homework submission instructions](https://github.students.cs.ubc.ca/cpsc330-2019w-t2/home/blob/master/docs/homework_instructions.md). \n",
    "\n",
    "**NEW REQUIREMENT**: if you are working with a partner, you must write a few sentences explaining the contribution of each team member. You should refer to yourselves by your CSIDs (because seeing names can cause bias during grading). Here is an example:\n",
    "\n",
    "> a1b2c did Exercise 1, checked over Exercise 2, and pair-programmed for Exercise 3. z9y8x checked over Exercise 1, did Exercise 2, and pair-programmed for Exercise 3. \n",
    "\n",
    "Our ideal scenario is that you worked together on all the exercises, but you are not required to do so, and for now we are only collecting this information because we are curious. If you are working alone, you can ignore this section.\n",
    "\n",
    "> x8p1b did everything, b9h0b also did everything. Then we checked our answers together and dicussed.\n"
   ]
  },
  {
   "cell_type": "markdown",
   "metadata": {
    "nbgrader": {
     "grade": false,
     "grade_id": "cell-8e3cc53df86a7e14",
     "locked": true,
     "schema_version": 3,
     "solution": false,
     "task": false
    },
    "toc-hr-collapsed": true
   },
   "source": [
    "# Exercise 1: Data and preprocessing <a name=\"1\"></a>\n",
    "We will be focusing on the classification task of predicting the presence or absence of heart disease (the response) based on a set of 13 different biophysical measures (the features). The classification of heart disease in patients is obviously of great importance for cardiovascular disease diagnosis and prevention. Machine learning offers novel and potentially effective methods of forming predictive models from heart disease data. The dataset you will be working with has been made available by the UCI Machine Learning Repository [here](https://archive.ics.uci.edu/ml/datasets/Heart+Disease). A slightly modified version of this dataset has been made available in your repo as `heart_disease.csv`. You will see that it contains 303 observations (patients) and 14 columns (13 features and 1 response).\n",
    "\n"
   ]
  },
  {
   "cell_type": "code",
   "execution_count": 3,
   "metadata": {},
   "outputs": [
    {
     "data": {
      "text/html": [
       "<div>\n",
       "<style scoped>\n",
       "    .dataframe tbody tr th:only-of-type {\n",
       "        vertical-align: middle;\n",
       "    }\n",
       "\n",
       "    .dataframe tbody tr th {\n",
       "        vertical-align: top;\n",
       "    }\n",
       "\n",
       "    .dataframe thead th {\n",
       "        text-align: right;\n",
       "    }\n",
       "</style>\n",
       "<table border=\"1\" class=\"dataframe\">\n",
       "  <thead>\n",
       "    <tr style=\"text-align: right;\">\n",
       "      <th></th>\n",
       "      <th>age</th>\n",
       "      <th>sex</th>\n",
       "      <th>chest_pain_type</th>\n",
       "      <th>resting_blood_pressure</th>\n",
       "      <th>cholesterol</th>\n",
       "      <th>fasting_blood_sugar</th>\n",
       "      <th>rest_ecg</th>\n",
       "      <th>max_heart_rate_achieved</th>\n",
       "      <th>exercise_induced_angina</th>\n",
       "      <th>st_depression</th>\n",
       "      <th>st_slope</th>\n",
       "      <th>num_major_vessels</th>\n",
       "      <th>thalassemia</th>\n",
       "      <th>target</th>\n",
       "    </tr>\n",
       "    <tr>\n",
       "      <th>patient_id</th>\n",
       "      <th></th>\n",
       "      <th></th>\n",
       "      <th></th>\n",
       "      <th></th>\n",
       "      <th></th>\n",
       "      <th></th>\n",
       "      <th></th>\n",
       "      <th></th>\n",
       "      <th></th>\n",
       "      <th></th>\n",
       "      <th></th>\n",
       "      <th></th>\n",
       "      <th></th>\n",
       "      <th></th>\n",
       "    </tr>\n",
       "  </thead>\n",
       "  <tbody>\n",
       "    <tr>\n",
       "      <td>0</td>\n",
       "      <td>63</td>\n",
       "      <td>male</td>\n",
       "      <td>non-anginal pain</td>\n",
       "      <td>145</td>\n",
       "      <td>233</td>\n",
       "      <td>greater than 120mg/ml</td>\n",
       "      <td>normal</td>\n",
       "      <td>150</td>\n",
       "      <td>no</td>\n",
       "      <td>2.3</td>\n",
       "      <td>upsloping</td>\n",
       "      <td>0</td>\n",
       "      <td>normal</td>\n",
       "      <td>1</td>\n",
       "    </tr>\n",
       "    <tr>\n",
       "      <td>1</td>\n",
       "      <td>37</td>\n",
       "      <td>male</td>\n",
       "      <td>non-anginal pain</td>\n",
       "      <td>130</td>\n",
       "      <td>250</td>\n",
       "      <td>lower than 120mg/ml</td>\n",
       "      <td>abnormal</td>\n",
       "      <td>187</td>\n",
       "      <td>no</td>\n",
       "      <td>3.5</td>\n",
       "      <td>upsloping</td>\n",
       "      <td>0</td>\n",
       "      <td>normal</td>\n",
       "      <td>1</td>\n",
       "    </tr>\n",
       "    <tr>\n",
       "      <td>2</td>\n",
       "      <td>41</td>\n",
       "      <td>female</td>\n",
       "      <td>non-anginal pain</td>\n",
       "      <td>130</td>\n",
       "      <td>204</td>\n",
       "      <td>lower than 120mg/ml</td>\n",
       "      <td>normal</td>\n",
       "      <td>172</td>\n",
       "      <td>no</td>\n",
       "      <td>1.4</td>\n",
       "      <td>downsloping</td>\n",
       "      <td>0</td>\n",
       "      <td>normal</td>\n",
       "      <td>1</td>\n",
       "    </tr>\n",
       "    <tr>\n",
       "      <td>3</td>\n",
       "      <td>56</td>\n",
       "      <td>male</td>\n",
       "      <td>non-anginal pain</td>\n",
       "      <td>120</td>\n",
       "      <td>236</td>\n",
       "      <td>lower than 120mg/ml</td>\n",
       "      <td>abnormal</td>\n",
       "      <td>178</td>\n",
       "      <td>no</td>\n",
       "      <td>0.8</td>\n",
       "      <td>downsloping</td>\n",
       "      <td>0</td>\n",
       "      <td>normal</td>\n",
       "      <td>1</td>\n",
       "    </tr>\n",
       "    <tr>\n",
       "      <td>4</td>\n",
       "      <td>57</td>\n",
       "      <td>female</td>\n",
       "      <td>angina</td>\n",
       "      <td>120</td>\n",
       "      <td>354</td>\n",
       "      <td>lower than 120mg/ml</td>\n",
       "      <td>abnormal</td>\n",
       "      <td>163</td>\n",
       "      <td>yes</td>\n",
       "      <td>0.6</td>\n",
       "      <td>downsloping</td>\n",
       "      <td>0</td>\n",
       "      <td>normal</td>\n",
       "      <td>1</td>\n",
       "    </tr>\n",
       "  </tbody>\n",
       "</table>\n",
       "</div>"
      ],
      "text/plain": [
       "            age     sex   chest_pain_type  resting_blood_pressure  \\\n",
       "patient_id                                                          \n",
       "0            63    male  non-anginal pain                     145   \n",
       "1            37    male  non-anginal pain                     130   \n",
       "2            41  female  non-anginal pain                     130   \n",
       "3            56    male  non-anginal pain                     120   \n",
       "4            57  female            angina                     120   \n",
       "\n",
       "            cholesterol    fasting_blood_sugar  rest_ecg  \\\n",
       "patient_id                                                 \n",
       "0                   233  greater than 120mg/ml    normal   \n",
       "1                   250    lower than 120mg/ml  abnormal   \n",
       "2                   204    lower than 120mg/ml    normal   \n",
       "3                   236    lower than 120mg/ml  abnormal   \n",
       "4                   354    lower than 120mg/ml  abnormal   \n",
       "\n",
       "            max_heart_rate_achieved exercise_induced_angina  st_depression  \\\n",
       "patient_id                                                                   \n",
       "0                               150                      no            2.3   \n",
       "1                               187                      no            3.5   \n",
       "2                               172                      no            1.4   \n",
       "3                               178                      no            0.8   \n",
       "4                               163                     yes            0.6   \n",
       "\n",
       "               st_slope  num_major_vessels thalassemia  target  \n",
       "patient_id                                                      \n",
       "0             upsloping                  0      normal       1  \n",
       "1             upsloping                  0      normal       1  \n",
       "2           downsloping                  0      normal       1  \n",
       "3           downsloping                  0      normal       1  \n",
       "4           downsloping                  0      normal       1  "
      ]
     },
     "execution_count": 3,
     "metadata": {},
     "output_type": "execute_result"
    }
   ],
   "source": [
    "heart_df = pd.read_csv('heart_disease.csv', index_col=0)\n",
    "heart_df.head()"
   ]
  },
  {
   "cell_type": "markdown",
   "metadata": {},
   "source": [
    "Note: many popular datasets have sex as a feature where the possible values are male and female. This representation reflects how the data were collected and is not meant to imply that, for example, gender is binary."
   ]
  },
  {
   "cell_type": "markdown",
   "metadata": {},
   "source": [
    "### 1.1 Ordering the steps\n",
    "rubric={points:5}"
   ]
  },
  {
   "cell_type": "markdown",
   "metadata": {},
   "source": [
    "Your first task is to wrangle this dataset into a format suitable for use with the `scikit-learn` library. This includes:\n",
    "\n",
    "1. Loading the dataset;\n",
    "2. Feature preprocessing (one-hot encoding and scaling); and,\n",
    "3. Splitting data into train/validation/test sets.\n",
    "\n",
    "To help you understand this wrangling process, the code required to perform the pre-processing tasks above is provided. The code has been arranged into different blocks performing the tasks above but these blocks are in the wrong order. Rearrange the code to correctly wrangle the data and add a short comment to each block to describe what the code is doing."
   ]
  },
  {
   "cell_type": "code",
   "execution_count": 35,
   "metadata": {
    "nbgrader": {
     "grade": false,
     "grade_id": "cell-cadffc5ad33d4efb",
     "locked": true,
     "schema_version": 3,
     "solution": false,
     "task": false
    }
   },
   "outputs": [],
   "source": [
    "# load the dataset\n",
    "heart_df = pd.read_csv('heart_disease.csv', index_col=0)\n",
    "\n",
    "# get features/X from the dataset\n",
    "numeric_features = ['age', 'resting_blood_pressure', 'cholesterol',\n",
    "                    'max_heart_rate_achieved', 'st_depression', 'num_major_vessels']\n",
    "categorical_features = ['sex', 'chest_pain_type', 'fasting_blood_sugar', 'rest_ecg',\n",
    "                        'exercise_induced_angina', 'st_slope', 'thalassemia']\n",
    "\n",
    "# obe-hot encoding and Standard scaling for categorical and numeric values respectively\n",
    "preprocessor = ColumnTransformer(\n",
    "    transformers=[\n",
    "        ('scale', StandardScaler(), numeric_features),\n",
    "        ('ohe', OneHotEncoder(drop=\"first\"), categorical_features)])\n",
    "\n",
    "# splitting the entire heart_df to 90% training set and 10% testing set\n",
    "X_train, X_test, y_train, y_test = train_test_split(heart_df.drop(columns='target'),\n",
    "                                                    heart_df['target'],\n",
    "                                                    test_size=0.1,\n",
    "                                                    random_state=50)\n",
    "\n",
    "# splitting the training dataset into 20% validation set and 80% training dataset\n",
    "X_train, X_valid, y_train, y_valid = train_test_split(X_train,\n",
    "                                                      y_train,\n",
    "                                                      test_size=0.2,\n",
    "                                                      random_state=50)\n",
    "\n",
    "# transforming training set data and convert it to a data frame\n",
    "X_train = pd.DataFrame(preprocessor.fit_transform(X_train),\n",
    "                       index=X_train.index,\n",
    "                       columns=(numeric_features +\n",
    "                                list(preprocessor.named_transformers_['ohe']\n",
    "                                     .get_feature_names(categorical_features))))\n",
    "\n",
    "# Use the same transformation on validation set and convert it to a data frame\n",
    "X_valid = pd.DataFrame(preprocessor.transform(X_valid),\n",
    "                      index=X_valid.index,\n",
    "                      columns=X_train.columns)\n",
    "\n",
    "# Use the same transformation on validation set and convert it to a data frame\n",
    "X_test = pd.DataFrame(preprocessor.transform(X_test),\n",
    "                      index=X_test.index,\n",
    "                      columns=X_train.columns)\n"
   ]
  },
  {
   "cell_type": "code",
   "execution_count": 5,
   "metadata": {},
   "outputs": [
    {
     "data": {
      "text/html": [
       "<div>\n",
       "<style scoped>\n",
       "    .dataframe tbody tr th:only-of-type {\n",
       "        vertical-align: middle;\n",
       "    }\n",
       "\n",
       "    .dataframe tbody tr th {\n",
       "        vertical-align: top;\n",
       "    }\n",
       "\n",
       "    .dataframe thead th {\n",
       "        text-align: right;\n",
       "    }\n",
       "</style>\n",
       "<table border=\"1\" class=\"dataframe\">\n",
       "  <thead>\n",
       "    <tr style=\"text-align: right;\">\n",
       "      <th></th>\n",
       "      <th>age</th>\n",
       "      <th>resting_blood_pressure</th>\n",
       "      <th>cholesterol</th>\n",
       "      <th>max_heart_rate_achieved</th>\n",
       "      <th>st_depression</th>\n",
       "      <th>num_major_vessels</th>\n",
       "      <th>sex_male</th>\n",
       "      <th>chest_pain_type_non-anginal pain</th>\n",
       "      <th>fasting_blood_sugar_lower than 120mg/ml</th>\n",
       "      <th>rest_ecg_normal</th>\n",
       "      <th>exercise_induced_angina_yes</th>\n",
       "      <th>st_slope_flat</th>\n",
       "      <th>st_slope_upsloping</th>\n",
       "      <th>thalassemia_normal</th>\n",
       "    </tr>\n",
       "    <tr>\n",
       "      <th>patient_id</th>\n",
       "      <th></th>\n",
       "      <th></th>\n",
       "      <th></th>\n",
       "      <th></th>\n",
       "      <th></th>\n",
       "      <th></th>\n",
       "      <th></th>\n",
       "      <th></th>\n",
       "      <th></th>\n",
       "      <th></th>\n",
       "      <th></th>\n",
       "      <th></th>\n",
       "      <th></th>\n",
       "      <th></th>\n",
       "    </tr>\n",
       "  </thead>\n",
       "  <tbody>\n",
       "    <tr>\n",
       "      <td>226</td>\n",
       "      <td>0.885344</td>\n",
       "      <td>-0.609894</td>\n",
       "      <td>0.632352</td>\n",
       "      <td>-2.155273</td>\n",
       "      <td>0.310458</td>\n",
       "      <td>0.287021</td>\n",
       "      <td>1.0</td>\n",
       "      <td>1.0</td>\n",
       "      <td>1.0</td>\n",
       "      <td>1.0</td>\n",
       "      <td>0.0</td>\n",
       "      <td>1.0</td>\n",
       "      <td>0.0</td>\n",
       "      <td>0.0</td>\n",
       "    </tr>\n",
       "    <tr>\n",
       "      <td>283</td>\n",
       "      <td>-1.483844</td>\n",
       "      <td>1.222692</td>\n",
       "      <td>-0.459387</td>\n",
       "      <td>1.389931</td>\n",
       "      <td>-0.886459</td>\n",
       "      <td>-0.686161</td>\n",
       "      <td>1.0</td>\n",
       "      <td>0.0</td>\n",
       "      <td>1.0</td>\n",
       "      <td>0.0</td>\n",
       "      <td>0.0</td>\n",
       "      <td>0.0</td>\n",
       "      <td>0.0</td>\n",
       "      <td>0.0</td>\n",
       "    </tr>\n",
       "    <tr>\n",
       "      <td>110</td>\n",
       "      <td>1.100725</td>\n",
       "      <td>2.826205</td>\n",
       "      <td>1.460568</td>\n",
       "      <td>0.162745</td>\n",
       "      <td>-0.886459</td>\n",
       "      <td>-0.686161</td>\n",
       "      <td>0.0</td>\n",
       "      <td>0.0</td>\n",
       "      <td>1.0</td>\n",
       "      <td>0.0</td>\n",
       "      <td>1.0</td>\n",
       "      <td>0.0</td>\n",
       "      <td>0.0</td>\n",
       "      <td>1.0</td>\n",
       "    </tr>\n",
       "    <tr>\n",
       "      <td>203</td>\n",
       "      <td>1.531486</td>\n",
       "      <td>2.826205</td>\n",
       "      <td>0.500590</td>\n",
       "      <td>-0.019060</td>\n",
       "      <td>0.481446</td>\n",
       "      <td>-0.686161</td>\n",
       "      <td>1.0</td>\n",
       "      <td>1.0</td>\n",
       "      <td>0.0</td>\n",
       "      <td>1.0</td>\n",
       "      <td>1.0</td>\n",
       "      <td>1.0</td>\n",
       "      <td>0.0</td>\n",
       "      <td>0.0</td>\n",
       "    </tr>\n",
       "    <tr>\n",
       "      <td>58</td>\n",
       "      <td>-2.129987</td>\n",
       "      <td>-0.724431</td>\n",
       "      <td>-1.231134</td>\n",
       "      <td>1.071772</td>\n",
       "      <td>-0.886459</td>\n",
       "      <td>-0.686161</td>\n",
       "      <td>1.0</td>\n",
       "      <td>1.0</td>\n",
       "      <td>1.0</td>\n",
       "      <td>1.0</td>\n",
       "      <td>0.0</td>\n",
       "      <td>0.0</td>\n",
       "      <td>0.0</td>\n",
       "      <td>1.0</td>\n",
       "    </tr>\n",
       "  </tbody>\n",
       "</table>\n",
       "</div>"
      ],
      "text/plain": [
       "                 age  resting_blood_pressure  cholesterol  \\\n",
       "patient_id                                                  \n",
       "226         0.885344               -0.609894     0.632352   \n",
       "283        -1.483844                1.222692    -0.459387   \n",
       "110         1.100725                2.826205     1.460568   \n",
       "203         1.531486                2.826205     0.500590   \n",
       "58         -2.129987               -0.724431    -1.231134   \n",
       "\n",
       "            max_heart_rate_achieved  st_depression  num_major_vessels  \\\n",
       "patient_id                                                              \n",
       "226                       -2.155273       0.310458           0.287021   \n",
       "283                        1.389931      -0.886459          -0.686161   \n",
       "110                        0.162745      -0.886459          -0.686161   \n",
       "203                       -0.019060       0.481446          -0.686161   \n",
       "58                         1.071772      -0.886459          -0.686161   \n",
       "\n",
       "            sex_male  chest_pain_type_non-anginal pain  \\\n",
       "patient_id                                               \n",
       "226              1.0                               1.0   \n",
       "283              1.0                               0.0   \n",
       "110              0.0                               0.0   \n",
       "203              1.0                               1.0   \n",
       "58               1.0                               1.0   \n",
       "\n",
       "            fasting_blood_sugar_lower than 120mg/ml  rest_ecg_normal  \\\n",
       "patient_id                                                             \n",
       "226                                             1.0              1.0   \n",
       "283                                             1.0              0.0   \n",
       "110                                             1.0              0.0   \n",
       "203                                             0.0              1.0   \n",
       "58                                              1.0              1.0   \n",
       "\n",
       "            exercise_induced_angina_yes  st_slope_flat  st_slope_upsloping  \\\n",
       "patient_id                                                                   \n",
       "226                                 0.0            1.0                 0.0   \n",
       "283                                 0.0            0.0                 0.0   \n",
       "110                                 1.0            0.0                 0.0   \n",
       "203                                 1.0            1.0                 0.0   \n",
       "58                                  0.0            0.0                 0.0   \n",
       "\n",
       "            thalassemia_normal  \n",
       "patient_id                      \n",
       "226                        0.0  \n",
       "283                        0.0  \n",
       "110                        1.0  \n",
       "203                        0.0  \n",
       "58                         1.0  "
      ]
     },
     "execution_count": 5,
     "metadata": {},
     "output_type": "execute_result"
    }
   ],
   "source": [
    "X_train.head()"
   ]
  },
  {
   "cell_type": "markdown",
   "metadata": {},
   "source": [
    "### 1.2 Exploring the one-hot encoding\n",
    "rubric={points:3}\n",
    "\n",
    "The original dataset had a feature called `st_slope`. \n",
    "\n",
    "1. What were the possible values of this feature? \n",
    "2. What new binary feature(s) were created to replace this feature? \n",
    "3. For each possible value of the original feature, how is this value represented in the transformed data? For example, the original feature `rest_ecg` had two values, \"normal\" and \"abnormal\". In the transformed data, the new feature is called `rest_ecg_normal`, where \"normal\" is represented as 1.0 and \"abnormal\" is represented as 0.0."
   ]
  },
  {
   "cell_type": "code",
   "execution_count": 6,
   "metadata": {},
   "outputs": [
    {
     "name": "stdout",
     "output_type": "stream",
     "text": [
      "1. The possible values in st_slopes were: ['upsloping' 'downsloping' 'flat']\n"
     ]
    }
   ],
   "source": [
    "# 1. possible values in st_slope\n",
    "np.array2string(heart_df[\"st_slope\"].unique())\n",
    "print(\"1. \" + \"The possible values in st_slopes were: \" + np.array2string(heart_df[\"st_slope\"].unique()))"
   ]
  },
  {
   "cell_type": "markdown",
   "metadata": {},
   "source": [
    "2. 2 columns: st_upsloping, and st_flat"
   ]
  },
  {
   "cell_type": "markdown",
   "metadata": {},
   "source": [
    "3.  st_slope_flat represents a flat slope as a 1. A second feature called st_slope_upsloping is used to represent the other two categories: downsloping as 0 and upsloping as 1"
   ]
  },
  {
   "cell_type": "markdown",
   "metadata": {},
   "source": [
    "## TODO: COPY Ahmed's answer!"
   ]
  },
  {
   "cell_type": "markdown",
   "metadata": {
    "toc-hr-collapsed": true
   },
   "source": [
    "## Exercise 2: Logistic regression <a name=\"2\"></a>\n",
    "In this exercise you will work with a type of linear model known as *logistic regression*. Recall that logistic regression, despite the name, is used for classification tasks. Typically it is used to model the relationship between one dependent binary variable (the target) and one or more numerical or categorical independent variables (features). "
   ]
  },
  {
   "cell_type": "markdown",
   "metadata": {
    "nbgrader": {
     "grade": false,
     "grade_id": "cell-ba1f8ea22638cf75",
     "locked": true,
     "schema_version": 3,
     "solution": false,
     "task": false
    }
   },
   "source": [
    "### 2.1 Train a logistic regression model\n",
    "rubric={points:1}\n",
    "\n",
    "Fit a [Logistic Regression classifier](https://scikit-learn.org/stable/modules/generated/sklearn.linear_model.LogisticRegression.html) called `lgr` on the train split of the heart disease data. You can use all default hyperparameters. If you get a `FutureWarning`, you can ignore it."
   ]
  },
  {
   "cell_type": "code",
   "execution_count": 15,
   "metadata": {
    "nbgrader": {
     "grade": false,
     "grade_id": "cell-ac288c544f903a4b",
     "locked": false,
     "schema_version": 3,
     "solution": true,
     "task": false
    }
   },
   "outputs": [
    {
     "name": "stderr",
     "output_type": "stream",
     "text": [
      "/Users/apple/opt/anaconda3/lib/python3.7/site-packages/sklearn/linear_model/logistic.py:432: FutureWarning: Default solver will be changed to 'lbfgs' in 0.22. Specify a solver to silence this warning.\n",
      "  FutureWarning)\n"
     ]
    },
    {
     "data": {
      "text/plain": [
       "LogisticRegression(C=1.0, class_weight=None, dual=False, fit_intercept=True,\n",
       "                   intercept_scaling=1, l1_ratio=None, max_iter=100,\n",
       "                   multi_class='warn', n_jobs=None, penalty='l2',\n",
       "                   random_state=None, solver='warn', tol=0.0001, verbose=0,\n",
       "                   warm_start=False)"
      ]
     },
     "execution_count": 15,
     "metadata": {},
     "output_type": "execute_result"
    }
   ],
   "source": [
    "lgr = LogisticRegression()\n",
    "lgr.fit(X_train, y_train)\n",
    "# show_scores(lgr, X_train, y_train, X_valid, y_valid)"
   ]
  },
  {
   "cell_type": "markdown",
   "metadata": {
    "nbgrader": {
     "grade": false,
     "grade_id": "cell-88e74a14ba41ec10",
     "locked": true,
     "schema_version": 3,
     "solution": false,
     "task": false
    }
   },
   "source": [
    "### 2.2 Test the model\n",
    "rubric={points:2}\n",
    "\n",
    "1. Test the `lgr` model on the training split of the heart disease data.\n",
    "2. Test the `lgr` model on the validation split of the heart disease data."
   ]
  },
  {
   "cell_type": "code",
   "execution_count": 16,
   "metadata": {
    "nbgrader": {
     "grade": false,
     "grade_id": "cell-d9a3243af6dc8544",
     "locked": false,
     "schema_version": 3,
     "solution": true,
     "task": false
    }
   },
   "outputs": [
    {
     "name": "stdout",
     "output_type": "stream",
     "text": [
      "The mean accuracy of lgr model on training set is 0.8387096774193549, and on the validation set is 0.8363636363636363\n"
     ]
    }
   ],
   "source": [
    "print(\"The mean accuracy of lgr model on training set is {}, and on the validation set is {}\"\n",
    "      .format(lgr.score(X_train, y_train) ,lgr.score(X_valid,y_valid)))"
   ]
  },
  {
   "cell_type": "markdown",
   "metadata": {
    "nbgrader": {
     "grade": false,
     "grade_id": "cell-672df1d9838d30c2",
     "locked": true,
     "schema_version": 3,
     "solution": false,
     "task": false
    }
   },
   "source": [
    "### 2.3 Interpret the test outputs\n",
    "rubric={points:1}\n",
    "\n",
    "Based on your results from **Q2.2** would you say your logisitic regression model is overfit? Why/why not?"
   ]
  },
  {
   "cell_type": "markdown",
   "metadata": {},
   "source": [
    "I don't think so. Normally if the model is overfitting, then there should be a large discrepancy between the training data accuracy and the validation data accuracy. The model we tested now had really similar mean testing accuracy."
   ]
  },
  {
   "cell_type": "markdown",
   "metadata": {
    "nbgrader": {
     "grade": true,
     "grade_id": "cell-18a759294ddb5c8f",
     "locked": false,
     "points": 0,
     "schema_version": 3,
     "solution": true,
     "task": false
    }
   },
   "source": []
  },
  {
   "cell_type": "markdown",
   "metadata": {
    "nbgrader": {
     "grade": false,
     "grade_id": "cell-f910e9d1d6d09182",
     "locked": true,
     "schema_version": 3,
     "solution": false,
     "task": false
    }
   },
   "source": [
    "### 2.4 Predicting probabilities\n",
    "rubric={points:6}\n",
    "\n",
    "A logistic regression model outputs a probability between 0 and 1, where (typically) probabilities less than 0.5 are assigned to class 0 and probabilites greater than 0.5 are assigned to class 1. The predictions of the logistic regression model can be revealed through the `.predict_proba()` method.\n",
    "\n",
    "1. What is the predicted probability that the first observation in the validation set (observation 11) has heart disease (target = 1)?\n",
    "1. What is the largest predicted probability across the entire validation set?\n",
    "1. What is the ID of the patient with this highest predicted probability of heart disease in the validation set (give the actual ID number, not the index location)?"
   ]
  },
  {
   "cell_type": "code",
   "execution_count": 17,
   "metadata": {},
   "outputs": [
    {
     "name": "stdout",
     "output_type": "stream",
     "text": [
      "1. the probability of first obervation has heart disease is [0.74909087]\n",
      "2.the largest predicted probablity is 0.9830029991189507\n",
      "3. the pateint ID is 115\n"
     ]
    }
   ],
   "source": [
    "print(\"1. \" + \"the probability of first obervation has heart disease is {}\".format(lgr.predict_proba(X_valid[:1])[:,1]))\n",
    "print(\"2.\" + \"the largest predicted probablity is {}\".format(lgr.predict_proba(X_valid)[:,1].max()))\n",
    "print(\"3.\" +\" the pateint ID is {}\".format(X_valid.iloc[np.argmax(lgr.predict_proba(X_valid)[:,1])].name))"
   ]
  },
  {
   "cell_type": "markdown",
   "metadata": {},
   "source": []
  },
  {
   "cell_type": "markdown",
   "metadata": {
    "nbgrader": {
     "grade": false,
     "grade_id": "cell-74975ac4dc07df4f",
     "locked": true,
     "schema_version": 3,
     "solution": false,
     "task": false
    }
   },
   "source": [
    "### 2.5 Most important features for predicting heart disease\n",
    "rubric={points:5}\n",
    "\n",
    "We can investigate the coefficient values of our logistic regression model to help understand the importance of the different features. Information of the coefficients is exposed by the `coef_` attribute of your `lgr` model (see the [documentation](https://scikit-learn.org/stable/modules/generated/sklearn.linear_model.LogisticRegression.html) for more help). What are the 3 most important features in the model according to the absolute value of the coefficients?\n",
    "\n",
    "What is the difference between a positive and negative coefficient in your `lgr` model?"
   ]
  },
  {
   "cell_type": "code",
   "execution_count": 18,
   "metadata": {
    "nbgrader": {
     "grade": true,
     "grade_id": "cell-0b6ca9c2acce547f",
     "locked": false,
     "points": 0,
     "schema_version": 3,
     "solution": true,
     "task": false
    }
   },
   "outputs": [
    {
     "name": "stdout",
     "output_type": "stream",
     "text": [
      "The 3 most important features are: ['chest_pain_type_non-anginal pain' 'thalassemia_normal' 'sex_male']\n",
      "A positive coefficient means that the corresponding feature will more likely correlate to heart disease, a negative coefficient means the opposite\n"
     ]
    }
   ],
   "source": [
    "lgr.coef_\n",
    "features = X_train.columns\n",
    "weights = lgr.coef_.ravel()\n",
    "features_weights_df = pd.DataFrame(data=weights, index=features, columns=['Weight']).abs()\n",
    "most_impact_fea = np.array2string(features_weights_df.sort_values(by = \"Weight\", ascending = False)[:3].index.values)\n",
    "print(\"The 3 most important features are: \" + most_impact_fea)\n",
    "\n",
    "print(\"A positive coefficient means that the corresponding feature will more likely correlate to heart disease, a negative coefficient means the opposite\")"
   ]
  },
  {
   "cell_type": "markdown",
   "metadata": {
    "toc-hr-collapsed": true
   },
   "source": [
    "## Exercise 3: Support vector machine (SVM) <a name=\"3\"></a>\n",
    "\n",
    "In this exercise, you will use train a SVM on the heart disease dataset and compare results to the logistic regression model from **Exercise 2**. "
   ]
  },
  {
   "cell_type": "markdown",
   "metadata": {
    "nbgrader": {
     "grade": false,
     "grade_id": "cell-b705b7463d3c6181",
     "locked": true,
     "schema_version": 3,
     "solution": false,
     "task": false
    }
   },
   "source": [
    "### 3.1 Kernels in SVM classification\n",
    "rubric={points:5}\n",
    "\n",
    "The sklearn [`SVC`](https://scikit-learn.org/stable/modules/generated/sklearn.svm.SVC.html) allows several different values for its `kernel` argument, including `'linear'`, `'poly'`, and `'rbf'`. For each of these kernels, train a model and report the training and validation accuracy. Make sure you use a `for` loop instead of repeating your code 3 times. To avoid issues with the newer sklearn, set `gamma='auto'`."
   ]
  },
  {
   "cell_type": "code",
   "execution_count": 19,
   "metadata": {},
   "outputs": [
    {
     "name": "stdout",
     "output_type": "stream",
     "text": [
      "linear SVM Training accuracy:   0.85\n",
      "linear SVM Validation accuracy:   0.85\n",
      "poly SVM Training accuracy:   0.83\n",
      "poly SVM Validation accuracy:   0.82\n",
      "rbf SVM Training accuracy:   0.88\n",
      "rbf SVM Validation accuracy:   0.85\n"
     ]
    }
   ],
   "source": [
    "kernels = ['linear', 'poly', 'rbf']\n",
    "\n",
    "for kernel in kernels:\n",
    "    svm = SVC(kernel= kernel, gamma = \"auto\")\n",
    "    svm.fit(X_train,y_train)\n",
    "    print(kernel + \" \" + \"SVM Training accuracy:   %.2f\" % (svm.score(X_train, y_train)))\n",
    "    print(kernel + \" \" + \"SVM Validation accuracy:   %.2f\" % (svm.score(X_valid, y_valid)))"
   ]
  },
  {
   "cell_type": "markdown",
   "metadata": {},
   "source": []
  },
  {
   "cell_type": "markdown",
   "metadata": {
    "nbgrader": {
     "grade": false,
     "grade_id": "cell-5ec6fa3df244b135",
     "locked": true,
     "schema_version": 3,
     "solution": false,
     "task": false
    }
   },
   "source": [
    "### 3.2 Interpreting results\n",
    "rubric={points:3}\n",
    "\n",
    "How do the train and validation accuracies compare to the logistic regression classifier in **Exercise 2**? Are any of the models overfit? Based on your results, why do you think the `'rbf'` kernel is the default in `scikit-learn`?"
   ]
  },
  {
   "cell_type": "markdown",
   "metadata": {},
   "source": [
    "The accuracies are similar to those of the logistic regression classifier. None of the models seem to be overfitting for this dataset.\n",
    "\n",
    "I think because the training and validation accuracy are exactly the same, meaing that the approximation error is minimized. Therefore, it will most likely give us the most accurate representation of how well our model will do on the real test prediction based on our training dataset."
   ]
  },
  {
   "cell_type": "markdown",
   "metadata": {
    "nbgrader": {
     "grade": true,
     "grade_id": "cell-5aba949b83841f25",
     "locked": false,
     "points": 0,
     "schema_version": 3,
     "solution": true,
     "task": false
    }
   },
   "source": []
  },
  {
   "cell_type": "markdown",
   "metadata": {
    "nbgrader": {
     "grade": false,
     "grade_id": "cell-cbc32fb4b43125c3",
     "locked": true,
     "schema_version": 3,
     "solution": false,
     "task": false
    }
   },
   "source": [
    "### 3.3 Visualizing results\n",
    "rubric={points:3}\n",
    "\n",
    "To understand the effect of the different `SVC` kernels it may be helpful to visualize them. We can easily visualize decision boundaries in 2-dimensions (i.e., 2 input features). The code below visualizes the 3 different kernels you tried above using a subset of the training data with only 2 features and only 30% of the examples. Run the code and *briefly* comment on/describe the behaviour of the three different kernels."
   ]
  },
  {
   "cell_type": "code",
   "execution_count": 20,
   "metadata": {},
   "outputs": [],
   "source": [
    "# Extract some sample 2-d data, set the random_state for repeatability and matching X/y samples\n",
    "sample = (X_train[['age', 'cholesterol']].join(y_train)\n",
    "                                         .sample(frac=0.3, random_state=123)\n",
    "                                         .dropna())\n",
    "sample_X, sample_y = sample.drop(columns=\"target\"), sample[\"target\"]"
   ]
  },
  {
   "cell_type": "code",
   "execution_count": 21,
   "metadata": {},
   "outputs": [
    {
     "data": {
      "image/png": "[encoded data removed]",
      "text/plain": [
       "<Figure size 864x288 with 3 Axes>"
      ]
     },
     "metadata": {
      "needs_background": "light"
     },
     "output_type": "display_data"
    }
   ],
   "source": [
    "plt.figure(figsize=(12,4))\n",
    "for i, kernel in enumerate(kernels):\n",
    "    SVC_model = SVC(kernel=kernel, gamma=\"auto\")\n",
    "    SVC_model.fit(sample_X, sample_y)\n",
    "    plt.subplot(1,3,i+1)\n",
    "    ax = plt.gca()\n",
    "    plot_classifier(sample_X, sample_y, SVC_model, ax=ax, ticks=True)\n",
    "    ax.set_title(kernel);\n",
    "    ax.set_xlabel('age (scaled)')\n",
    "    if i == 0:\n",
    "        ax.set_ylabel('cholesterol (scaled)')"
   ]
  },
  {
   "cell_type": "markdown",
   "metadata": {
    "nbgrader": {
     "grade": true,
     "grade_id": "cell-48027c063d99bc4b",
     "locked": false,
     "points": 0,
     "schema_version": 3,
     "solution": true,
     "task": false
    }
   },
   "source": []
  },
  {
   "cell_type": "markdown",
   "metadata": {},
   "source": [
    "- linear kernel: the decision boundary used to classify examples is a line that splits 2d space into two halves <br />\n",
    "- poly kernel: the decision boundary does not follow a straight line to split space, but rather a polynomial<br />\n",
    "- rbf kernel: The decision boundary is complex and highly adapts to the 2d shape of the dataset when making a split<br />"
   ]
  },
  {
   "cell_type": "markdown",
   "metadata": {
    "nbgrader": {
     "grade": false,
     "grade_id": "cell-cc56fdd1f387082c",
     "locked": true,
     "schema_version": 3,
     "solution": false,
     "task": false
    }
   },
   "source": [
    "### 3.4 The RBF kernel hyperparameters\n",
    "rubric={points:5}\n",
    "\n",
    "`gamma` and `C` are hyperparameters of the `SVC` model, specifically for the RBF kernel. Both of them affect the complexity of the model. In this exercise we'll focus `gamma` specifically.\n",
    "\n",
    "Your task is to explore different values of `gamma`: \n",
    "\n",
    "1. Set `gamma` to $0.001, 0.01, 0.1, 1$ and $10$, once again using a `for` loop instead of repeating your code. Inside the loop, fit the model on the original training data and report the training and validation accuracy. \n",
    "2. Furthermore, for each `gamma`, fit another `SVC` model on only the smaller dataset from the previous exercise, and produce a decision boundary plot similar to the ones above. \n",
    "3. Then, discuss your results. How does `gamma` influence your results? Can you relate this to the fundamental trade-off of ML models? Do you get more complicated surfaces from larger `gamma`, or smaller?\n",
    "\n",
    "Note: your accuracy printouts won't correspond exactly to the plots, because the accuracy scores come from the full dataset and the plots are only made using the subsetted data."
   ]
  },
  {
   "cell_type": "code",
   "execution_count": 22,
   "metadata": {},
   "outputs": [
    {
     "name": "stdout",
     "output_type": "stream",
     "text": [
      "Performance of gamma = 0.001 is: \n",
      "SVM Training accuracy:   0.68\n",
      "SVM Validation accuracy:   0.71\n",
      "\n",
      "Performance of gamma = 0.01 is: \n",
      "SVM Training accuracy:   0.84\n",
      "SVM Validation accuracy:   0.87\n",
      "\n",
      "Performance of gamma = 0.1 is: \n",
      "SVM Training accuracy:   0.89\n",
      "SVM Validation accuracy:   0.89\n",
      "\n",
      "Performance of gamma = 1 is: \n",
      "SVM Training accuracy:   1.00\n",
      "SVM Validation accuracy:   0.76\n",
      "\n",
      "Performance of gamma = 10 is: \n",
      "SVM Training accuracy:   1.00\n",
      "SVM Validation accuracy:   0.58\n",
      "\n"
     ]
    }
   ],
   "source": [
    "# 1. gamma tuning\n",
    "gammas = [0.001,0.01,0.1, 1, 10]\n",
    "for gamma in gammas:\n",
    "    svm = SVC(kernel = 'rbf',gamma = gamma)\n",
    "    svm.fit(X_train,y_train)\n",
    "    print(\"Performance of gamma = {} is: \".format(gamma))\n",
    "    print(\"SVM Training accuracy:   %.2f\" % (svm.score(X_train, y_train)))\n",
    "    print(\"SVM Validation accuracy:   %.2f\" % (svm.score(X_valid, y_valid)))\n",
    "    print(\"\")\n"
   ]
  },
  {
   "cell_type": "code",
   "execution_count": 150,
   "metadata": {},
   "outputs": [
    {
     "name": "stdout",
     "output_type": "stream",
     "text": [
      "Performance of the rbf svc model with gamma = 0.001 is: 0.5538461538461539\n",
      "Performance of the rbf svc model with gamma = 0.01 is: 0.5538461538461539\n",
      "Performance of the rbf svc model with gamma = 0.1 is: 0.6615384615384615\n",
      "Performance of the rbf svc model with gamma = 1 is: 0.7692307692307693\n",
      "Performance of the rbf svc model with gamma = 10 is: 0.9076923076923077\n"
     ]
    },
    {
     "data": {
      "image/png": "[encoded data removed]",
      "text/plain": [
       "<Figure size 1440x360 with 5 Axes>"
      ]
     },
     "metadata": {
      "needs_background": "light"
     },
     "output_type": "display_data"
    }
   ],
   "source": [
    "# 2. fit for \"rbf\" for each gammas\n",
    "plt.figure(figsize=(20,len(gammas)))\n",
    "for i, gamma in enumerate(gammas):\n",
    "    SVC_model = SVC(kernel=\"rbf\", gamma=gamma)\n",
    "    SVC_model.fit(sample_X, sample_y)\n",
    "    print(\"Performance of the rbf svc model with gamma = {} is: {}\".format(gamma, SVC_model.score(sample_X, sample_y)))\n",
    "    plt.subplot(1,len(gammas),i+1)\n",
    "    ax = plt.gca()\n",
    "    plot_classifier(sample_X, sample_y, SVC_model, ax=ax, ticks=True)\n",
    "    ax.set_title(\"RBF SVC with gamma =\" + str(gamma));\n",
    "    ax.set_xlabel('age (scaled)')\n",
    "    if i == 0:\n",
    "        ax.set_ylabel('cholesterol (scaled)')"
   ]
  },
  {
   "cell_type": "markdown",
   "metadata": {},
   "source": [
    "Based on the results above, increasing the value of gamma leads to a more complex model with decision boundaries that fit more to the training data. Beyond gamma = 0.1 the model starts to overfit, where training accuracy is very high but validation accuracy on new examples starts dropping"
   ]
  },
  {
   "cell_type": "markdown",
   "metadata": {},
   "source": []
  },
  {
   "cell_type": "markdown",
   "metadata": {
    "toc-hr-collapsed": true
   },
   "source": [
    "## Exercise 4: Open-Ended <a name=\"4\"></a>"
   ]
  },
  {
   "cell_type": "markdown",
   "metadata": {
    "nbgrader": {
     "grade": false,
     "grade_id": "cell-5e9e6fdea209d872",
     "locked": true,
     "schema_version": 3,
     "solution": false,
     "task": false
    }
   },
   "source": [
    "### 4.1 Try to maximize valdiation accuracy\n",
    "rubric={points:6}\n",
    "\n",
    "Using any of `LogisticRegression`, `SVC`, `DecisionTreeClassifier` and `RandomForestClassifier`, try to get the best validation accuracy that you can on this same data set. You'll want to fiddle with the hyperparameters. When you are done, briefly describe what you tried and what worked best.\n",
    "\n",
    "Note: this question is quite open-ended. I recommend not spending more than 20 minutes on it, and just submitting what you have after 20 min. "
   ]
  },
  {
   "cell_type": "markdown",
   "metadata": {},
   "source": [
    "#### Will play with the hyperparameter max_features and max_depth using the RandomForestClassifier model."
   ]
  },
  {
   "cell_type": "code",
   "execution_count": 38,
   "metadata": {},
   "outputs": [
    {
     "name": "stderr",
     "output_type": "stream",
     "text": [
      "/Users/apple/opt/anaconda3/lib/python3.7/site-packages/sklearn/linear_model/logistic.py:432: FutureWarning: Default solver will be changed to 'lbfgs' in 0.22. Specify a solver to silence this warning.\n",
      "  FutureWarning)\n"
     ]
    },
    {
     "data": {
      "text/html": [
       "<div>\n",
       "<style scoped>\n",
       "    .dataframe tbody tr th:only-of-type {\n",
       "        vertical-align: middle;\n",
       "    }\n",
       "\n",
       "    .dataframe tbody tr th {\n",
       "        vertical-align: top;\n",
       "    }\n",
       "\n",
       "    .dataframe thead th {\n",
       "        text-align: right;\n",
       "    }\n",
       "</style>\n",
       "<table border=\"1\" class=\"dataframe\">\n",
       "  <thead>\n",
       "    <tr style=\"text-align: right;\">\n",
       "      <th></th>\n",
       "      <th>Validation accuracy</th>\n",
       "    </tr>\n",
       "  </thead>\n",
       "  <tbody>\n",
       "    <tr>\n",
       "      <td>svm</td>\n",
       "      <td>0.891</td>\n",
       "    </tr>\n",
       "    <tr>\n",
       "      <td>lgr</td>\n",
       "      <td>0.891</td>\n",
       "    </tr>\n",
       "    <tr>\n",
       "      <td>dt</td>\n",
       "      <td>0.836</td>\n",
       "    </tr>\n",
       "    <tr>\n",
       "      <td>rf</td>\n",
       "      <td>0.909</td>\n",
       "    </tr>\n",
       "  </tbody>\n",
       "</table>\n",
       "</div>"
      ],
      "text/plain": [
       "    Validation accuracy\n",
       "svm               0.891\n",
       "lgr               0.891\n",
       "dt                0.836\n",
       "rf                0.909"
      ]
     },
     "execution_count": 38,
     "metadata": {},
     "output_type": "execute_result"
    }
   ],
   "source": [
    "models = []\n",
    "scores = []\n",
    "svm = SVC(kernel=\"rbf\", gamma = 0.1, C = 1.0, random_state = 100)\n",
    "lgr = LogisticRegression(C = 0.1, random_state = 100)\n",
    "dt = DecisionTreeClassifier(max_depth=7, random_state = 100)\n",
    "rf = RandomForestClassifier(n_estimators = 70, max_features = 4, max_depth = 2, random_state = 100)\n",
    "models.extend((svm, lgr, dt, rf))\n",
    "\n",
    "for model in models:\n",
    "    model.fit(X_train, y_train)\n",
    "    scores.append(\"%.3f\" %(model.score(X_valid, y_valid)))\n",
    "    \n",
    "i = ['svm', 'lgr', 'dt', 'rf']\n",
    "d = {'Validation accuracy': scores}\n",
    "df = pd.DataFrame(d, i)\n",
    "df"
   ]
  },
  {
   "cell_type": "markdown",
   "metadata": {},
   "source": [
    "##### Optimizing one hyperparameter does not mean it is also optimized to use when tuning for another hyperparameter?"
   ]
  },
  {
   "cell_type": "markdown",
   "metadata": {},
   "source": [
    "\n",
    "For the svm classifier: modified both 'C' and 'gamma' until an accuracy of 89.1% was reached. Changing gamma seemed to be a more effective strategy when C was kept constant <br />\n",
    "\n",
    "lgr classifier: Used different values of 'C' in multiples of 10, settled for C = 0.1 for an accuracy of 89.1%\n",
    "\n",
    "decision tree: Used different values for max depth between 4 and 10. A maximum depth of 7 proved reasonable\n",
    "\n",
    "random forest: Got the highest validation accuracy using this model, around 91%. This was achieved using a combination of number of estimators, maximum number of features considered for each split and max depth of 2 to reduce overfitting"
   ]
  },
  {
   "cell_type": "markdown",
   "metadata": {},
   "source": []
  },
  {
   "cell_type": "markdown",
   "metadata": {},
   "source": [
    "### 4.2 Test set\n",
    "rubric={points:3}\n",
    "\n",
    "Evaluate your final model on the test set. How does your test accuracy compare to your validation accuracy? If they are different: do you think this is because you \"overfitted on the validation set\", or simply random luck? Discuss your answer in the context of the size of the data set."
   ]
  },
  {
   "cell_type": "code",
   "execution_count": 39,
   "metadata": {},
   "outputs": [
    {
     "data": {
      "text/plain": [
       "0.8709677419354839"
      ]
     },
     "execution_count": 39,
     "metadata": {},
     "output_type": "execute_result"
    }
   ],
   "source": [
    "# Accuracy of the random forest model when applied to test data\n",
    "rf.score(X_test, y_test)"
   ]
  },
  {
   "cell_type": "markdown",
   "metadata": {},
   "source": []
  },
  {
   "cell_type": "markdown",
   "metadata": {},
   "source": [
    "There is a small difference between the prediction accuracies of the test and validation data of about 3%. This could be random luck, as the size of the test dataset is much smaller than the training dataset. Perhaps all those test examples fell within the bounds of training examples and the model was able to make a good prediction based on that. On a larger test dataset we may not see such high accuracies"
   ]
  },
  {
   "cell_type": "markdown",
   "metadata": {},
   "source": [
    "### 4.3 Cross-validation\n",
    "rubric={points:1}\n",
    "\n",
    "Would this problem be a good candidate for using cross-validation, instead of a train/validation split? Briefly justify your answer."
   ]
  },
  {
   "cell_type": "markdown",
   "metadata": {},
   "source": []
  },
  {
   "cell_type": "markdown",
   "metadata": {},
   "source": [
    "Yes, this will add some randomness to the training phase and will allow us to capture more information given the small dataset we have."
   ]
  },
  {
   "cell_type": "code",
   "execution_count": null,
   "metadata": {},
   "outputs": [],
   "source": []
  }
 ],
 "metadata": {
  "celltoolbar": "Create Assignment",
  "kernelspec": {
   "display_name": "Python 3",
   "language": "python",
   "name": "python3"
  },
  "language_info": {
   "codemirror_mode": {
    "name": "ipython",
    "version": 3
   },
   "file_extension": ".py",
   "mimetype": "text/x-python",
   "name": "python",
   "nbconvert_exporter": "python",
   "pygments_lexer": "ipython3",
   "version": "3.7.4"
  }
 },
 "nbformat": 4,
 "nbformat_minor": 4
}
